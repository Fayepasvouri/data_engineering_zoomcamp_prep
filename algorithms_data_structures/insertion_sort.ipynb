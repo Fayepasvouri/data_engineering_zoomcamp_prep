{
 "cells": [
  {
   "cell_type": "code",
   "execution_count": null,
   "id": "7e036d9e",
   "metadata": {},
   "outputs": [
    {
     "name": "stdout",
     "output_type": "stream",
     "text": [
      "[5, 11, 12, 22, 25, 34, 64, 90]\n"
     ]
    }
   ],
   "source": [
    "# insertion sort O (n^2), good for small datasets\n",
    "\n",
    "mylist = [64, 34, 25, 12, 22, 11, 90, 5] # my array\n",
    "\n",
    "len_list = len(mylist)\n",
    "\n",
    "for i in range(1, len_list): # all nums except the first one O(n)\n",
    "    key = mylist[i] # O(1)\n",
    "    left_num = i-1 # scans from left to right, from position 0 # O(1)\n",
    "\n",
    "    while left_num >=0 and key < mylist[left_num]: # O(n)\n",
    "           mylist[left_num+1] = mylist[left_num] # O(1) # position 1 will go to position 0 and so on\n",
    "           left_num -= 1 # O(1)\n",
    "    \n",
    "    mylist[left_num+1] = key # O(1)\n",
    "\n",
    "print(mylist) # O(n^2)"
   ]
  },
  {
   "cell_type": "code",
   "execution_count": null,
   "id": "742d3016",
   "metadata": {},
   "outputs": [
    {
     "name": "stdout",
     "output_type": "stream",
     "text": [
      "1 2 0 5\n",
      "2 3 1 5\n",
      "3 1 2 5\n",
      "[1, 2, 3, 5]\n"
     ]
    }
   ],
   "source": [
    "# we cannot solve the sort an array medium problem of leetcode cos it does not work with heavy data\n",
    "\n",
    "nums = [5,2,3,1]\n",
    "\n",
    "len_nums = len(nums)\n",
    "\n",
    "for x in range(1, len_nums):\n",
    "\n",
    "    key = nums[x]\n",
    "\n",
    "    left_num = x - 1\n",
    "\n",
    "    print(x, key, left_num, nums[left_num])\n",
    "\n",
    "    while left_num >= 0 and key < nums[left_num]:\n",
    "        nums[left_num + 1] = nums[left_num]\n",
    "        left_num -=1\n",
    "\n",
    "    nums[left_num + 1] = key\n",
    "\n",
    "print(nums)\n"
   ]
  },
  {
   "cell_type": "code",
   "execution_count": null,
   "id": "386437e7",
   "metadata": {},
   "outputs": [
    {
     "name": "stdout",
     "output_type": "stream",
     "text": [
      "False\n",
      "False\n",
      "False\n"
     ]
    },
    {
     "ename": "IndexError",
     "evalue": "list index out of range",
     "output_type": "error",
     "traceback": [
      "\u001b[31m---------------------------------------------------------------------------\u001b[39m",
      "\u001b[31mIndexError\u001b[39m                                Traceback (most recent call last)",
      "\u001b[36mCell\u001b[39m\u001b[36m \u001b[39m\u001b[32mIn[93]\u001b[39m\u001b[32m, line 5\u001b[39m\n\u001b[32m      3\u001b[39m \u001b[38;5;28;01mfor\u001b[39;00m i \u001b[38;5;129;01min\u001b[39;00m \u001b[38;5;28mrange\u001b[39m(\u001b[38;5;28mlen\u001b[39m(nums)):\n\u001b[32m      4\u001b[39m     j = i + \u001b[32m1\u001b[39m\n\u001b[32m----> \u001b[39m\u001b[32m5\u001b[39m     \u001b[38;5;28;01mif\u001b[39;00m (nums[i] == \u001b[43mnums\u001b[49m\u001b[43m[\u001b[49m\u001b[43mj\u001b[49m\u001b[43m]\u001b[49m) \u001b[38;5;129;01mand\u001b[39;00m (\u001b[38;5;28mabs\u001b[39m(i - j) <= k) \u001b[38;5;129;01mand\u001b[39;00m (j < i):\n\u001b[32m      6\u001b[39m         \u001b[38;5;28mprint\u001b[39m(\u001b[38;5;28;01mTrue\u001b[39;00m)\n\u001b[32m      7\u001b[39m         \u001b[38;5;28;01mbreak\u001b[39;00m\n",
      "\u001b[31mIndexError\u001b[39m: list index out of range"
     ]
    }
   ],
   "source": [
    "nums = [1,2,3,1]\n",
    "k = 3\n",
    "for i in range(len(nums)):\n",
    "    j = i + 1\n",
    "    if (nums[i] == nums[j]) and (abs(i - j) <= k) and (i !=j) and (j < i):\n",
    "        print(True)\n",
    "        break\n",
    "    print(False)"
   ]
  }
 ],
 "metadata": {
  "kernelspec": {
   "display_name": "Python 3",
   "language": "python",
   "name": "python3"
  },
  "language_info": {
   "codemirror_mode": {
    "name": "ipython",
    "version": 3
   },
   "file_extension": ".py",
   "mimetype": "text/x-python",
   "name": "python",
   "nbconvert_exporter": "python",
   "pygments_lexer": "ipython3",
   "version": "3.13.7"
  }
 },
 "nbformat": 4,
 "nbformat_minor": 5
}
