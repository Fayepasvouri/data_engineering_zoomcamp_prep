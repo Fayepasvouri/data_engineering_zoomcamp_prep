{
 "cells": [
  {
   "cell_type": "code",
   "execution_count": 62,
   "id": "7e036d9e",
   "metadata": {},
   "outputs": [
    {
     "name": "stdout",
     "output_type": "stream",
     "text": [
      "0\n",
      "1\n",
      "2\n",
      "3\n",
      "4\n",
      "5\n",
      "6\n",
      "[5, 11, 12, 22, 25, 34, 64, 90]\n"
     ]
    }
   ],
   "source": [
    "# insertion sort O (n^2), good for small datasets\n",
    "\n",
    "mylist = [64, 34, 25, 12, 22, 11, 90, 5] # my array\n",
    "\n",
    "len_list = len(mylist)\n",
    "\n",
    "for i in range(1, len_list): # all nums except the first one O(n)\n",
    "    key = mylist[i] # O(1)\n",
    "    # print(key)\n",
    "    left_num = i-1 # scans from left to right, from position 0 # O(1)\n",
    "    print(left_num)\n",
    "\n",
    "    while left_num >=0 and key < mylist[left_num]: # O(n)\n",
    "          mylist[left_num+1] = mylist[left_num] # O(1) # position 1 will go to position 0 and so on\n",
    "          left_num -= 1 # O(1)\n",
    "    \n",
    "    mylist[left_num+1] = key # O(1)\n",
    "\n",
    "print(mylist) # O(n^2)"
   ]
  },
  {
   "cell_type": "code",
   "execution_count": null,
   "id": "742d3016",
   "metadata": {},
   "outputs": [
    {
     "name": "stdout",
     "output_type": "stream",
     "text": [
      "1 2 0 5\n",
      "2 3 1 5\n",
      "3 1 2 5\n",
      "[1, 2, 3, 5]\n"
     ]
    }
   ],
   "source": [
    "# we cannot solve the sort an array medium problem of leetcode cos it does not work with heavy data\n",
    "\n",
    "nums = [5,2,3,1]\n",
    "\n",
    "len_nums = len(nums)\n",
    "\n",
    "for x in range(1, len_nums):\n",
    "\n",
    "    key = nums[x]\n",
    "\n",
    "    left_num = x - 1\n",
    "\n",
    "    print(x, key, left_num, nums[left_num])\n",
    "\n",
    "    while left_num >= 0 and key < nums[left_num]:\n",
    "        nums[left_num + 1] = nums[left_num]\n",
    "        left_num -=1\n",
    "\n",
    "    nums[left_num + 1] = key\n",
    "\n",
    "print(nums)\n"
   ]
  }
 ],
 "metadata": {
  "kernelspec": {
   "display_name": "Python 3",
   "language": "python",
   "name": "python3"
  },
  "language_info": {
   "codemirror_mode": {
    "name": "ipython",
    "version": 3
   },
   "file_extension": ".py",
   "mimetype": "text/x-python",
   "name": "python",
   "nbconvert_exporter": "python",
   "pygments_lexer": "ipython3",
   "version": "3.13.7"
  }
 },
 "nbformat": 4,
 "nbformat_minor": 5
}
