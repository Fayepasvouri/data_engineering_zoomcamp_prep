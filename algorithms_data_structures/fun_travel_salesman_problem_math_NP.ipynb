{
 "cells": [
  {
   "cell_type": "markdown",
   "id": "5cd0665d",
   "metadata": {},
   "source": [
    "# DP table (Dynamic Programming to store min cost or distance)\n",
    "\n",
    "* n = numb of cities matrix of size nxn\n",
    "\n",
    "* dp = {}\n",
    "\n",
    "* dp = [[float(inf) * n for x in range(2**n)]] cost * len cities for x in (this means 2^n) but it can be written as 1 << n\n",
    "\n",
    "* start at first city dp[1][0] = 0\n",
    "\n",
    "* mask is a bitmask in programming which represents subsets of size n eg {1,2} as 0b011 where 0 not visited and 1 visited\n",
    "\n",
    "* S E {1,2,3,4,5,...n}\n",
    "\n",
    "* c(u,v) E S they should belong to the subset as R real numbers\n",
    "\n",
    "* dp[new_mask][v] = min(dp[new_mask][v], dp[mask][u] + distance_matrix[u][v]) math formula"
   ]
  },
  {
   "cell_type": "code",
   "execution_count": 9,
   "id": "3d3841c0",
   "metadata": {},
   "outputs": [
    {
     "name": "stdout",
     "output_type": "stream",
     "text": [
      "Minimum tour cost: 80\n"
     ]
    }
   ],
   "source": [
    "def TSP_held_karp(distance_matrix):\n",
    "\n",
    "    n = len(distance_matrix)\n",
    "    dp = [[float('inf')] * n for x in range(2**n)]\n",
    "    dp[1][0] = 0  # Starting at the first city\n",
    "\n",
    "    for mask in range(2**n):\n",
    "        for u in range(n):\n",
    "            if mask & (2**u):\n",
    "                for v in range(n):\n",
    "                    if mask & (2**v) == 0:\n",
    "                        new_mask = mask | (2**v)\n",
    "                        dp[new_mask][v] = min(dp[new_mask][v], dp[mask][u] + distance_matrix[u][v]) # math formula \n",
    "\n",
    "    return min(dp[(2**n) - 1][v] + distance_matrix[v][0] for v in range(n))\n",
    "\n",
    "distance_matrix = [[0, 10, 15, 20],\n",
    "    [10, 0, 35, 25],\n",
    "    [15, 35, 0, 30],\n",
    "    [20, 25, 30, 0]] # len of matrix is 4x4 (X^TX)\n",
    "\n",
    "cost = TSP_held_karp(distance_matrix)\n",
    "print(\"Minimum tour cost:\", cost)\n"
   ]
  }
 ],
 "metadata": {
  "kernelspec": {
   "display_name": "Python 3",
   "language": "python",
   "name": "python3"
  },
  "language_info": {
   "codemirror_mode": {
    "name": "ipython",
    "version": 3
   },
   "file_extension": ".py",
   "mimetype": "text/x-python",
   "name": "python",
   "nbconvert_exporter": "python",
   "pygments_lexer": "ipython3",
   "version": "3.13.9"
  }
 },
 "nbformat": 4,
 "nbformat_minor": 5
}
