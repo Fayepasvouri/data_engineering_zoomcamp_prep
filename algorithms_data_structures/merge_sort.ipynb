{
 "cells": [
  {
   "cell_type": "code",
   "execution_count": null,
   "id": "1602bb01",
   "metadata": {},
   "outputs": [
    {
     "name": "stdout",
     "output_type": "stream",
     "text": [
      "([1, 2, 7, 6], [5, 4, 8, 3])\n",
      "[1, 2, 3, 4, 5, 6, 7, 8]\n"
     ]
    }
   ],
   "source": [
    "# Divide and Conquer method for Merge Sort with Theta(nlogn) vs Insertion Sort of Theta(n^2)\n",
    "# Divide then conquer the smaller of equal size problems and merge them (recursively = call themselves)\n",
    "\n",
    "def divide_and_conquer_array(arr):\n",
    "\n",
    "    left = arr[0:len(arr)//2] # --> careful to use // (integer division) instead of / (float division)\n",
    "    right = arr[len(arr)//2:len(arr)]\n",
    "\n",
    "    return left, right\n",
    "\n",
    "print(divide_and_conquer_array(arr = [1,2,7,6,5,4,8,3]))\n",
    "\n",
    "def merge_sort_array(left, right):\n",
    "\n",
    "    sorted_arr = sorted(left + right) # sorted() is 0(nlogn) as an in-built function\n",
    "    return sorted_arr\n",
    "\n",
    "left, right = divide_and_conquer_array([1,2,7,6,5,4,8,3])\n",
    "print(merge_sort_array(left, right))"
   ]
  },
  {
   "cell_type": "code",
   "execution_count": null,
   "id": "d4586220",
   "metadata": {},
   "outputs": [
    {
     "data": {
      "text/plain": [
       "2"
      ]
     },
     "execution_count": 16,
     "metadata": {},
     "output_type": "execute_result"
    }
   ],
   "source": [
    "# leetcode example 27 remove element\n",
    "\n",
    "# Input: nums = [3,2,2,3], val = 3\n",
    "# Output: 2, nums = [2,2,_,_]\n",
    "\n",
    "nums = [3,2,2,3]\n",
    "val = 2\n",
    "\n",
    "def remove_element(nums, val):\n",
    "\n",
    "   k = [int(x) for x in sorted(nums) if x != val]\n",
    "   return k[0]\n",
    "\n",
    "remove_element(nums, val)\n",
    "\n",
    "def remove_element(nums, val):\n",
    "   k = 0\n",
    "   result = len([nums[k] == nums[i] for i in range(len(nums)) if (nums[i] != val)])\n",
    "   return result\n",
    "remove_element(nums, val)"
   ]
  },
  {
   "cell_type": "code",
   "execution_count": 1,
   "id": "ec8f1a13",
   "metadata": {},
   "outputs": [
    {
     "data": {
      "text/plain": [
       "[1, 2, 3, 4, 5, 7, 8, 9]"
      ]
     },
     "execution_count": 1,
     "metadata": {},
     "output_type": "execute_result"
    }
   ],
   "source": [
    "# Input: nums = [5,2,3,1]\n",
    "# Output: [1,2,3,5]\n",
    "\n",
    "nums = [5,2,3,1,7,8,9,4]\n",
    "\n",
    "def merge_sort(nums):\n",
    "\n",
    "    if len(nums) <= 1:\n",
    "        return nums\n",
    "\n",
    "    nums_length = len(nums)\n",
    "\n",
    "    left_side = nums[0:nums_length//2]\n",
    "    right_side = nums[nums_length//2:]\n",
    "    \n",
    "    left_side = merge_sort(left_side) # recursion\n",
    "    right_side = merge_sort(right_side) # recursion sorted\n",
    "\n",
    "    i = j = 0\n",
    "\n",
    "    output = []\n",
    "    while i < len(left_side) and j < len(right_side):\n",
    "        if left_side[i] < right_side[j]:\n",
    "            output.append(left_side[i])\n",
    "            i += 1\n",
    "        else:\n",
    "            output.append(right_side[j])\n",
    "            j += 1\n",
    "            \n",
    "    # extend the rest of values when one of two arrays finishes first      \n",
    "    output.extend(left_side[i:])\n",
    "    output.extend(right_side[j:])\n",
    "\n",
    "    # while i < len(left_side):\n",
    "    #     output.append(left_side[i])\n",
    "    #     i += 1\n",
    "\n",
    "    # while j < len(right_side):\n",
    "    #     output.append(right_side[j])\n",
    "    #     j += 1\n",
    "\n",
    "    return output\n",
    "\n",
    "merge_sort(nums)\n",
    "\n"
   ]
  },
  {
   "cell_type": "code",
   "execution_count": null,
   "id": "c31ef1eb",
   "metadata": {},
   "outputs": [
    {
     "name": "stdout",
     "output_type": "stream",
     "text": [
      "49\n",
      "[1, 3, 5, 1, 6, 3, 2, 4]\n",
      "{2: 4, 5: 6, 4: 8, 7: 8, 3: 5}\n"
     ]
    }
   ],
   "source": [
    "from functools import reduce\n",
    "\n",
    "# functional programming \n",
    "\n",
    "nums = [2,3,1,5,8,7,6,9,8]\n",
    "\n",
    "summation = nums[0] * nums[1] * nums[2]\n",
    "\n",
    "summing = reduce(lambda x,y: x+y, nums) # here the reduce is equivalent to sum for many nums and lambda does the + or - or *\n",
    "print(summing) # reduce only applies a function of 2 x and y\n",
    "\n",
    "def concat(x,y):\n",
    "    return x+y\n",
    "\n",
    "print(reduce(concat, [[1,3,5],[1,6,3],[2,4]])) # concatenate lists with reduce and +\n",
    "\n",
    "def concat_dict(x,y):\n",
    "    return {**x, **y} # kwargs to merge dicts\n",
    "\n",
    "print(reduce(concat_dict, [{2:4, 5:6, 4:8}, {7:8}, {3:5}, {}]))"
   ]
  }
 ],
 "metadata": {
  "kernelspec": {
   "display_name": "Python 3",
   "language": "python",
   "name": "python3"
  },
  "language_info": {
   "codemirror_mode": {
    "name": "ipython",
    "version": 3
   },
   "file_extension": ".py",
   "mimetype": "text/x-python",
   "name": "python",
   "nbconvert_exporter": "python",
   "pygments_lexer": "ipython3",
   "version": "3.13.9"
  }
 },
 "nbformat": 4,
 "nbformat_minor": 5
}
