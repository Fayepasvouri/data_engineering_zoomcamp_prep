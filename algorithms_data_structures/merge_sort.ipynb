{
 "cells": [
  {
   "cell_type": "code",
   "execution_count": null,
   "id": "1602bb01",
   "metadata": {},
   "outputs": [
    {
     "name": "stdout",
     "output_type": "stream",
     "text": [
      "([1, 2, 7, 6], [5, 4, 8, 3])\n",
      "[1, 2, 3, 4, 5, 6, 7, 8]\n"
     ]
    }
   ],
   "source": [
    "# Divide and Conquer method for Merge Sort with Theta(nlogn) vs Insertion Sort of Theta(n^2)\n",
    "# Divide then conquer the smaller of equal size problems and merge them (recursively = call themselves)\n",
    "\n",
    "def divide_and_conquer_array(arr):\n",
    "\n",
    "    left = arr[0:len(arr)//2] # --> careful to use // (integer division) instead of / (float division)\n",
    "    right = arr[len(arr)//2:len(arr)]\n",
    "\n",
    "    return left, right\n",
    "\n",
    "print(divide_and_conquer_array(arr = [1,2,7,6,5,4,8,3]))\n",
    "\n",
    "def merge_sort_array(left, right):\n",
    "\n",
    "    sorted_arr = sorted(left + right) # sorted() is 0(nlogn) as an in-built function\n",
    "    return sorted_arr\n",
    "\n",
    "left, right = divide_and_conquer_array([1,2,7,6,5,4,8,3])\n",
    "print(merge_sort_array(left, right))"
   ]
  },
  {
   "cell_type": "code",
   "execution_count": null,
   "id": "d4586220",
   "metadata": {},
   "outputs": [
    {
     "data": {
      "text/plain": [
       "2"
      ]
     },
     "execution_count": 16,
     "metadata": {},
     "output_type": "execute_result"
    }
   ],
   "source": [
    "# leetcode example 27 remove element\n",
    "\n",
    "# Input: nums = [3,2,2,3], val = 3\n",
    "# Output: 2, nums = [2,2,_,_]\n",
    "\n",
    "nums = [3,2,2,3]\n",
    "val = 2\n",
    "\n",
    "def remove_element(nums, val):\n",
    "\n",
    "   k = [int(x) for x in sorted(nums) if x != val]\n",
    "   return k[0]\n",
    "\n",
    "remove_element(nums, val)\n",
    "\n",
    "def remove_element(nums, val):\n",
    "   k = 0\n",
    "   result = len([nums[k] == nums[i] for i in range(len(nums)) if (nums[i] != val)])\n",
    "   return result\n",
    "remove_element(nums, val)"
   ]
  },
  {
   "cell_type": "code",
   "execution_count": null,
   "id": "ec8f1a13",
   "metadata": {},
   "outputs": [
    {
     "ename": "TypeError",
     "evalue": "'int' object is not iterable",
     "output_type": "error",
     "traceback": [
      "\u001b[31m---------------------------------------------------------------------------\u001b[39m",
      "\u001b[31mTypeError\u001b[39m                                 Traceback (most recent call last)",
      "\u001b[36mCell\u001b[39m\u001b[36m \u001b[39m\u001b[32mIn[54]\u001b[39m\u001b[32m, line 43\u001b[39m\n\u001b[32m     33\u001b[39m     \u001b[38;5;66;03m# while i < len(left_side):\u001b[39;00m\n\u001b[32m     34\u001b[39m     \u001b[38;5;66;03m#     output.append(left_side[i])\u001b[39;00m\n\u001b[32m     35\u001b[39m     \u001b[38;5;66;03m#     i += 1\u001b[39;00m\n\u001b[32m   (...)\u001b[39m\u001b[32m     38\u001b[39m     \u001b[38;5;66;03m#     output.append(right_side[j])\u001b[39;00m\n\u001b[32m     39\u001b[39m     \u001b[38;5;66;03m#     j += 1\u001b[39;00m\n\u001b[32m     41\u001b[39m     \u001b[38;5;28;01mreturn\u001b[39;00m output\n\u001b[32m---> \u001b[39m\u001b[32m43\u001b[39m \u001b[43mmerge_sort\u001b[49m\u001b[43m(\u001b[49m\u001b[43mnums\u001b[49m\u001b[43m)\u001b[49m\n",
      "\u001b[36mCell\u001b[39m\u001b[36m \u001b[39m\u001b[32mIn[54]\u001b[39m\u001b[32m, line 16\u001b[39m, in \u001b[36mmerge_sort\u001b[39m\u001b[34m(nums)\u001b[39m\n\u001b[32m     13\u001b[39m left_side = nums[\u001b[32m0\u001b[39m:nums_length//\u001b[32m2\u001b[39m]\n\u001b[32m     14\u001b[39m right_side = nums[nums_length//\u001b[32m2\u001b[39m:]\n\u001b[32m---> \u001b[39m\u001b[32m16\u001b[39m left_side = \u001b[43mmerge_sort\u001b[49m\u001b[43m(\u001b[49m\u001b[43mleft_side\u001b[49m\u001b[43m)\u001b[49m \u001b[38;5;66;03m# recursion\u001b[39;00m\n\u001b[32m     17\u001b[39m right_side = merge_sort(right_side) \u001b[38;5;66;03m# recursion sorted\u001b[39;00m\n\u001b[32m     19\u001b[39m i = j = \u001b[32m0\u001b[39m\n",
      "\u001b[36mCell\u001b[39m\u001b[36m \u001b[39m\u001b[32mIn[54]\u001b[39m\u001b[32m, line 16\u001b[39m, in \u001b[36mmerge_sort\u001b[39m\u001b[34m(nums)\u001b[39m\n\u001b[32m     13\u001b[39m left_side = nums[\u001b[32m0\u001b[39m:nums_length//\u001b[32m2\u001b[39m]\n\u001b[32m     14\u001b[39m right_side = nums[nums_length//\u001b[32m2\u001b[39m:]\n\u001b[32m---> \u001b[39m\u001b[32m16\u001b[39m left_side = \u001b[43mmerge_sort\u001b[49m\u001b[43m(\u001b[49m\u001b[43mleft_side\u001b[49m\u001b[43m)\u001b[49m \u001b[38;5;66;03m# recursion\u001b[39;00m\n\u001b[32m     17\u001b[39m right_side = merge_sort(right_side) \u001b[38;5;66;03m# recursion sorted\u001b[39;00m\n\u001b[32m     19\u001b[39m i = j = \u001b[32m0\u001b[39m\n",
      "\u001b[36mCell\u001b[39m\u001b[36m \u001b[39m\u001b[32mIn[54]\u001b[39m\u001b[32m, line 30\u001b[39m, in \u001b[36mmerge_sort\u001b[39m\u001b[34m(nums)\u001b[39m\n\u001b[32m     27\u001b[39m         output.append(right_side[j])\n\u001b[32m     28\u001b[39m         j += \u001b[32m1\u001b[39m\n\u001b[32m---> \u001b[39m\u001b[32m30\u001b[39m         \u001b[43moutput\u001b[49m\u001b[43m.\u001b[49m\u001b[43mextend\u001b[49m\u001b[43m(\u001b[49m\u001b[43mleft_side\u001b[49m\u001b[43m[\u001b[49m\u001b[43mi\u001b[49m\u001b[43m]\u001b[49m\u001b[43m)\u001b[49m\n\u001b[32m     31\u001b[39m         output.extend(right_side[j])\n\u001b[32m     33\u001b[39m \u001b[38;5;66;03m# while i < len(left_side):\u001b[39;00m\n\u001b[32m     34\u001b[39m \u001b[38;5;66;03m#     output.append(left_side[i])\u001b[39;00m\n\u001b[32m     35\u001b[39m \u001b[38;5;66;03m#     i += 1\u001b[39;00m\n\u001b[32m   (...)\u001b[39m\u001b[32m     38\u001b[39m \u001b[38;5;66;03m#     output.append(right_side[j])\u001b[39;00m\n\u001b[32m     39\u001b[39m \u001b[38;5;66;03m#     j += 1\u001b[39;00m\n",
      "\u001b[31mTypeError\u001b[39m: 'int' object is not iterable"
     ]
    }
   ],
   "source": [
    "# Input: nums = [5,2,3,1]\n",
    "# Output: [1,2,3,5]\n",
    "\n",
    "nums = [5,2,3,1,7,8,9,4]\n",
    "\n",
    "def merge_sort(nums):\n",
    "\n",
    "    if len(nums) <= 1:\n",
    "        return nums\n",
    "\n",
    "    nums_length = len(nums)\n",
    "\n",
    "    left_side = nums[0:nums_length//2]\n",
    "    right_side = nums[nums_length//2:]\n",
    "    \n",
    "    left_side = merge_sort(left_side) # recursion\n",
    "    right_side = merge_sort(right_side) # recursion sorted\n",
    "\n",
    "    i = j = 0\n",
    "\n",
    "    output = []\n",
    "    while i < len(left_side) and j < len(right_side):\n",
    "        if left_side[i] < right_side[j]:\n",
    "            output.append(left_side[i])\n",
    "            i += 1\n",
    "        else:\n",
    "            output.append(right_side[j])\n",
    "            j += 1\n",
    "            \n",
    "    # extend the rest of values when one of two arrays finishes first      \n",
    "    output.extend(left_side[i:])\n",
    "    output.extend(right_side[j:])\n",
    "\n",
    "    # while i < len(left_side):\n",
    "    #     output.append(left_side[i])\n",
    "    #     i += 1\n",
    "\n",
    "    # while j < len(right_side):\n",
    "    #     output.append(right_side[j])\n",
    "    #     j += 1\n",
    "\n",
    "    return output\n",
    "\n",
    "merge_sort(nums)\n",
    "\n"
   ]
  }
 ],
 "metadata": {
  "kernelspec": {
   "display_name": "Python 3",
   "language": "python",
   "name": "python3"
  },
  "language_info": {
   "codemirror_mode": {
    "name": "ipython",
    "version": 3
   },
   "file_extension": ".py",
   "mimetype": "text/x-python",
   "name": "python",
   "nbconvert_exporter": "python",
   "pygments_lexer": "ipython3",
   "version": "3.13.9"
  }
 },
 "nbformat": 4,
 "nbformat_minor": 5
}
