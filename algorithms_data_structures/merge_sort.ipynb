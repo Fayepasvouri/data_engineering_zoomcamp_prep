{
 "cells": [
  {
   "cell_type": "code",
   "execution_count": null,
   "id": "1602bb01",
   "metadata": {},
   "outputs": [
    {
     "name": "stdout",
     "output_type": "stream",
     "text": [
      "([1, 2, 7, 6], [5, 4, 8, 3])\n",
      "[1, 2, 3, 4, 5, 6, 7, 8]\n"
     ]
    }
   ],
   "source": [
    "# Divide and Conquer method for Merge Sort with Theta(nlogn) vs Insertion Sort of Theta(n^2)\n",
    "# Divide then conquer the smaller of equal size problems and merge them (recursively = call themselves)\n",
    "\n",
    "def divide_and_conquer_array(arr):\n",
    "\n",
    "    left = arr[0:len(arr)//2] # --> careful to use // (integer division) instead of / (float division)\n",
    "    right = arr[len(arr)//2:len(arr)]\n",
    "\n",
    "    return left, right\n",
    "\n",
    "print(divide_and_conquer_array(arr = [1,2,7,6,5,4,8,3]))\n",
    "\n",
    "def merge_sort_array(left, right):\n",
    "\n",
    "    sorted_arr = sorted(left + right) # sorted() is 0(nlogn) as an in-built function\n",
    "    return sorted_arr\n",
    "\n",
    "left, right = divide_and_conquer_array([1,2,7,6,5,4,8,3])\n",
    "print(merge_sort_array(left, right))"
   ]
  }
 ],
 "metadata": {
  "kernelspec": {
   "display_name": "Python 3",
   "language": "python",
   "name": "python3"
  },
  "language_info": {
   "codemirror_mode": {
    "name": "ipython",
    "version": 3
   },
   "file_extension": ".py",
   "mimetype": "text/x-python",
   "name": "python",
   "nbconvert_exporter": "python",
   "pygments_lexer": "ipython3",
   "version": "3.13.7"
  }
 },
 "nbformat": 4,
 "nbformat_minor": 5
}
