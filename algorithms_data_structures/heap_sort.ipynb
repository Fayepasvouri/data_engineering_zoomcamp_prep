{
 "cells": [
  {
   "cell_type": "code",
   "execution_count": 7,
   "id": "d1619603",
   "metadata": {},
   "outputs": [
    {
     "name": "stdout",
     "output_type": "stream",
     "text": [
      "3 largest : [19, 11, 10]\n",
      "3 smallest: [2, 4, 8]\n",
      "19\n",
      "2\n",
      "0\n",
      "4\n",
      "7\n",
      "8\n"
     ]
    }
   ],
   "source": [
    "import heapq\n",
    "\n",
    "data = [19, 9, 4, 10, 11, 8, 2]\n",
    "\n",
    "print('3 largest :', heapq.nlargest(3, data))\n",
    "print('3 smallest:', heapq.nsmallest(3, data))\n",
    "print(heapq.heappop(data))\n",
    "\n",
    "for n in [0, 7, 13, 9, 5]:\n",
    "    smallest = heapq.heapreplace(data, n)\n",
    "    print(smallest)"
   ]
  },
  {
   "cell_type": "code",
   "execution_count": 8,
   "id": "7ad47482",
   "metadata": {},
   "outputs": [
    {
     "name": "stdout",
     "output_type": "stream",
     "text": [
      "[2, 3, 9, 7]\n"
     ]
    }
   ],
   "source": [
    "new_heap = []\n",
    "heapq.heappush(new_heap, 3)\n",
    "heapq.heappush(new_heap, 7)\n",
    "heapq.heappush(new_heap, 9)\n",
    "heapq.heappush(new_heap, 2)\n",
    "print(new_heap)\n"
   ]
  },
  {
   "cell_type": "code",
   "execution_count": null,
   "id": "4ccdefd3",
   "metadata": {},
   "outputs": [
    {
     "name": "stdout",
     "output_type": "stream",
     "text": [
      "['4', 'Bronze Medal', 'Silver Medal', '5', 'Gold Medal']\n"
     ]
    }
   ],
   "source": [
    "# Input: score = [5,4,3,2,1]\n",
    "# Output: [\"Gold Medal\",\"Silver Medal\",\"Bronze Medal\",\"4\",\"5\"]\n",
    "\n",
    "# leetcode example 506\n",
    "\n",
    "score = [20,30,40,10,50]\n",
    "medals = [\"Gold Medal\",\"Silver Medal\",\"Bronze Medal\"] \n",
    "\n",
    "dictionary = {}\n",
    "scores_sorted = sorted(score, reverse=True)\n",
    "\n",
    "for rank, v in enumerate(scores_sorted):\n",
    "    if rank < 3:\n",
    "        dictionary[v] = medals[rank]\n",
    "    else:\n",
    "        dictionary[v] = str(rank+1)\n",
    "\n",
    "\n",
    "print([dictionary[v] for v in score])\n"
   ]
  },
  {
   "cell_type": "code",
   "execution_count": 159,
   "id": "912096f1",
   "metadata": {},
   "outputs": [
    {
     "name": "stdout",
     "output_type": "stream",
     "text": [
      "82\n"
     ]
    }
   ],
   "source": [
    "# leetcode example 202\n",
    "\n",
    "n = 19\n",
    "\n",
    "def find_next(n):\n",
    "    return sum([int(character)**2 for character in str(n)])\n",
    "print(find_next(n))"
   ]
  },
  {
   "cell_type": "code",
   "execution_count": 160,
   "id": "a94ba8ed",
   "metadata": {},
   "outputs": [
    {
     "data": {
      "text/plain": [
       "True"
      ]
     },
     "execution_count": 160,
     "metadata": {},
     "output_type": "execute_result"
    }
   ],
   "source": [
    "def isHappy(next_num):\n",
    "    seen = set()\n",
    "\n",
    "    while True:\n",
    "        if next_num == 1:\n",
    "            return True\n",
    "        if next_num in seen:\n",
    "            return False\n",
    "        seen.add(next_num)\n",
    "        next_num = find_next(next_num)\n",
    "        \n",
    "isHappy(13)\n"
   ]
  }
 ],
 "metadata": {
  "kernelspec": {
   "display_name": "Python 3",
   "language": "python",
   "name": "python3"
  },
  "language_info": {
   "codemirror_mode": {
    "name": "ipython",
    "version": 3
   },
   "file_extension": ".py",
   "mimetype": "text/x-python",
   "name": "python",
   "nbconvert_exporter": "python",
   "pygments_lexer": "ipython3",
   "version": "3.13.7"
  }
 },
 "nbformat": 4,
 "nbformat_minor": 5
}
