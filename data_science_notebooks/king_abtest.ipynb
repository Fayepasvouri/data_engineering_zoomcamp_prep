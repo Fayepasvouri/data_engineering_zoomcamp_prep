{
 "cells": [
  {
   "cell_type": "markdown",
   "metadata": {},
   "source": [
    "**READ FILE AS RELATIVE PATH -- ACHIEVING REUSABILITY**"
   ]
  },
  {
   "cell_type": "code",
   "execution_count": null,
   "metadata": {},
   "outputs": [],
   "source": [
    "import os \n",
    "import pandas as pd \n",
    "import warnings\n",
    "warnings.filterwarnings('ignore')\n",
    "\n",
    "relative_path = os.path.join(os.getcwd())\n",
    "\n",
    "raw_data = relative_path + '/query_results.csv'\n",
    "\n",
    "raw_data = pd.read_csv(raw_data)\n",
    "raw_data"
   ]
  },
  {
   "cell_type": "markdown",
   "metadata": {},
   "source": [
    "## EDA"
   ]
  },
  {
   "cell_type": "markdown",
   "metadata": {},
   "source": [
    "**LET'S VISUALISATE THE PERCENTAGE OF THE A/B TEST GROUPS IN OUR WHOLE DATAFRAME**"
   ]
  },
  {
   "cell_type": "code",
   "execution_count": null,
   "metadata": {},
   "outputs": [],
   "source": [
    "import seaborn as sns \n",
    "sns.countplot(x=raw_data[\"abtest_group\"], data=raw_data)"
   ]
  },
  {
   "cell_type": "code",
   "execution_count": null,
   "metadata": {},
   "outputs": [],
   "source": [
    "raw_data = raw_data.fillna(0)\n",
    "raw_data"
   ]
  },
  {
   "cell_type": "markdown",
   "metadata": {},
   "source": [
    "**Randomised Date, Daily Installations per User**"
   ]
  },
  {
   "cell_type": "code",
   "execution_count": null,
   "metadata": {},
   "outputs": [],
   "source": [
    "daily_installations = raw_data[raw_data.install_date == \"2017-03-01\"]\n",
    "daily_installations"
   ]
  },
  {
   "cell_type": "markdown",
   "metadata": {},
   "source": [
    "**LET'S CALCULATE THE YEARLY INSTALLATION RATE AKA USER GROWTH RATE PER YEAR BASED ON NEW INSTALLATIONS**"
   ]
  },
  {
   "cell_type": "code",
   "execution_count": null,
   "metadata": {},
   "outputs": [],
   "source": [
    "monthly_installations = len(daily_installations)*30  # 30 shows the number of days per month \n",
    "monthly_installations"
   ]
  },
  {
   "cell_type": "code",
   "execution_count": null,
   "metadata": {},
   "outputs": [],
   "source": [
    "yearly_installation_rate_or_growth_rate = len(raw_data)/monthly_installations\n",
    "yearly_installation_rate_or_growth_rate"
   ]
  },
  {
   "cell_type": "markdown",
   "metadata": {},
   "source": [
    "**YEARLY PURCHASE RATE**"
   ]
  },
  {
   "cell_type": "code",
   "execution_count": null,
   "metadata": {},
   "outputs": [],
   "source": [
    "sum_of_yearly_purchases = sum(raw_data.purchases)\n",
    "sum_of_yearly_purchases"
   ]
  },
  {
   "cell_type": "code",
   "execution_count": null,
   "metadata": {},
   "outputs": [],
   "source": [
    "YPR = len(raw_data)/sum(raw_data.purchases)\n",
    "YPR"
   ]
  },
  {
   "cell_type": "code",
   "execution_count": null,
   "metadata": {},
   "outputs": [],
   "source": [
    "import statistics\n",
    "\n",
    "statistics.mean(raw_data.purchases)"
   ]
  },
  {
   "cell_type": "code",
   "execution_count": null,
   "metadata": {},
   "outputs": [],
   "source": [
    "statistics.stdev(raw_data.purchases)"
   ]
  },
  {
   "cell_type": "code",
   "execution_count": null,
   "metadata": {},
   "outputs": [],
   "source": [
    "statistics.mean(raw_data.gameends)"
   ]
  },
  {
   "cell_type": "code",
   "execution_count": null,
   "metadata": {},
   "outputs": [],
   "source": [
    "statistics.stdev(raw_data.gameends)"
   ]
  },
  {
   "cell_type": "markdown",
   "metadata": {},
   "source": [
    "**CHECKING UNIQUE VALUES IN DATES**"
   ]
  },
  {
   "cell_type": "code",
   "execution_count": null,
   "metadata": {},
   "outputs": [],
   "source": [
    "raw_data[\"activity_date\"].unique()"
   ]
  },
  {
   "cell_type": "code",
   "execution_count": null,
   "metadata": {},
   "outputs": [],
   "source": [
    "raw_data[\"assignment_date\"].unique()"
   ]
  },
  {
   "cell_type": "markdown",
   "metadata": {},
   "source": [
    "**I WANTED TO CALCULATE RETENTION AKA CHURN RATE BASED ON THE LAST ACTIVITY DATE COMPARED TO INSTALLA DATE BUT I THINK THIS IS NOT POSSIBLE IN THIS DATA**"
   ]
  },
  {
   "cell_type": "markdown",
   "metadata": {},
   "source": [
    "**THIS SHOWS YEARLY DATA**"
   ]
  },
  {
   "cell_type": "code",
   "execution_count": null,
   "metadata": {},
   "outputs": [],
   "source": [
    "raw_data[\"install_date\"].unique()"
   ]
  },
  {
   "cell_type": "markdown",
   "metadata": {},
   "source": [
    "**HOW MANY PLAYERS IN OUR DATAFRAME HAVE NEVER CONVERTED?**"
   ]
  },
  {
   "cell_type": "code",
   "execution_count": null,
   "metadata": {},
   "outputs": [],
   "source": [
    "no_conversion_data = raw_data[raw_data.conversion_date == 0]\n",
    "no_conversion_data"
   ]
  },
  {
   "cell_type": "code",
   "execution_count": null,
   "metadata": {},
   "outputs": [],
   "source": [
    "purchases_max_number_in_no_conversion_data = no_conversion_data[no_conversion_data.purchases >= 2]\n",
    "purchases_max_number_in_no_conversion_data"
   ]
  },
  {
   "cell_type": "markdown",
   "metadata": {},
   "source": [
    "**in our non-conversion data, only 30 players have had more than 2 purchases -- a relatively small number**"
   ]
  },
  {
   "cell_type": "markdown",
   "metadata": {},
   "source": [
    "**HOW MANY OF OUR PLAYERS HAVE ACTUALLY CONVERTED ALL THIS PERIOD OF TIME?**"
   ]
  },
  {
   "cell_type": "code",
   "execution_count": null,
   "metadata": {},
   "outputs": [],
   "source": [
    "merged = raw_data.merge(no_conversion_data, how='left', indicator=True)\n",
    "conversion = merged[merged['_merge']=='left_only']\n",
    "conversion = conversion.drop(\"_merge\", axis=1)\n",
    "conversion_date_data = conversion.fillna(0)\n",
    "conversion_date_data"
   ]
  },
  {
   "cell_type": "markdown",
   "metadata": {},
   "source": [
    "Well, 1468 people have had a conversion rate. The number is small but not insignificant since every customer counts and brings money. But let's see at a later stage if the new feature could bring more converted customers in the future. "
   ]
  },
  {
   "cell_type": "markdown",
   "metadata": {},
   "source": [
    "**LET'S CALCULATE ONE KPI: YEARLY CONVERSION RATE**"
   ]
  },
  {
   "cell_type": "code",
   "execution_count": null,
   "metadata": {},
   "outputs": [],
   "source": [
    "yearly_conversion_rate =len(conversion_date_data)/len(no_conversion_data)*100\n",
    "yearly_conversion_rate"
   ]
  },
  {
   "cell_type": "markdown",
   "metadata": {},
   "source": [
    "**HOW MANY TOTAL PURCHASES PER AB TEST GROUP?**"
   ]
  },
  {
   "cell_type": "code",
   "execution_count": null,
   "metadata": {},
   "outputs": [],
   "source": [
    "new = conversion_date_data[\"purchases\"].groupby(conversion_date_data['abtest_group']).size()\n",
    "new"
   ]
  },
  {
   "cell_type": "markdown",
   "metadata": {},
   "source": [
    "How many large purchases?"
   ]
  },
  {
   "cell_type": "code",
   "execution_count": null,
   "metadata": {},
   "outputs": [],
   "source": [
    "purchases_max_number = conversion_date_data[conversion_date_data.purchases >= 2]\n",
    "purchases_max_number"
   ]
  },
  {
   "cell_type": "markdown",
   "metadata": {},
   "source": [
    "**HOW MANY (MORE THAN 2 PURCHASES) PER TEST GROUP?** "
   ]
  },
  {
   "cell_type": "code",
   "execution_count": null,
   "metadata": {},
   "outputs": [],
   "source": [
    "purchases = purchases_max_number[\"purchases\"].groupby(purchases_max_number['abtest_group']).size()\n",
    "purchases"
   ]
  },
  {
   "cell_type": "markdown",
   "metadata": {},
   "source": [
    "**VISUALISING IF THERE IS ANY EFFECT BETWEEN THE ABTEST GROUP AND THE DURATION OF A GAME**"
   ]
  },
  {
   "cell_type": "code",
   "execution_count": null,
   "metadata": {},
   "outputs": [],
   "source": [
    "sns.scatterplot(x=purchases_max_number[\"abtest_group\"], y = purchases_max_number[\"gameends\"], data=purchases_max_number)"
   ]
  },
  {
   "cell_type": "markdown",
   "metadata": {},
   "source": [
    "Some outliers in Group B show that some gamers played more rounds"
   ]
  },
  {
   "cell_type": "code",
   "execution_count": null,
   "metadata": {},
   "outputs": [],
   "source": [
    "sns.scatterplot(x=purchases_max_number[\"abtest_group\"], y = purchases_max_number[\"purchases\"], data=purchases_max_number)"
   ]
  },
  {
   "cell_type": "markdown",
   "metadata": {},
   "source": [
    "Based on the above graph, the new feature does not mean more purchases"
   ]
  },
  {
   "cell_type": "code",
   "execution_count": null,
   "metadata": {},
   "outputs": [],
   "source": [
    "purchases_min_number = conversion_date_data[conversion_date_data.purchases <= 2]\n",
    "purchases_min_number"
   ]
  },
  {
   "cell_type": "markdown",
   "metadata": {},
   "source": [
    "**LET'S SEE WHAT INSIGHTS WE GET IF THE NUMBER OF PURCHASES IS SMALL**"
   ]
  },
  {
   "cell_type": "markdown",
   "metadata": {},
   "source": [
    "## HOW THE NUMBER OF PURCHASES IS RELATED TO THE NUMBER OF PLAYING ROUNDS?"
   ]
  },
  {
   "cell_type": "code",
   "execution_count": null,
   "metadata": {},
   "outputs": [],
   "source": [
    "import numpy as np\n",
    "purchases_gameends = conversion_date_data[\"gameends\"].groupby(conversion_date_data['purchases']).mean().astype(float).astype(np.int32)\n",
    "purchases_gameends"
   ]
  },
  {
   "cell_type": "markdown",
   "metadata": {},
   "source": [
    "**based on the above table, proportionally speaking, the more the purchases, the more the rounds without that meaning that correlation implies causation**"
   ]
  },
  {
   "cell_type": "code",
   "execution_count": null,
   "metadata": {},
   "outputs": [],
   "source": [
    "group_B = conversion_date_data[conversion_date_data.abtest_group==\"B\"]\n",
    "group_B"
   ]
  },
  {
   "cell_type": "markdown",
   "metadata": {},
   "source": [
    "## Finding the mean game ends (rounds) in conversion group B per purchase number"
   ]
  },
  {
   "cell_type": "code",
   "execution_count": null,
   "metadata": {},
   "outputs": [],
   "source": [
    "purchases_gameends_group_B = group_B[\"gameends\"].groupby(group_B['purchases']).mean().astype(float).astype(np.int32)\n",
    "purchases_gameends_group_B = pd.DataFrame(purchases_gameends_group_B)\n",
    "purchases_gameends_group_B"
   ]
  },
  {
   "cell_type": "code",
   "execution_count": null,
   "metadata": {},
   "outputs": [],
   "source": [
    "sns.countplot(x=group_B[\"purchases\"], data=raw_data)"
   ]
  },
  {
   "cell_type": "code",
   "execution_count": null,
   "metadata": {},
   "outputs": [],
   "source": [
    "group_A = conversion_date_data[conversion_date_data.abtest_group==\"A\"]\n",
    "group_A"
   ]
  },
  {
   "cell_type": "code",
   "execution_count": null,
   "metadata": {},
   "outputs": [],
   "source": [
    "purchases_gameends_group_A = group_A[\"gameends\"].groupby(group_A['purchases']).mean().astype(float).astype(np.int32)\n",
    "purchases_gameends_group_A = pd.DataFrame(purchases_gameends_group_A)\n",
    "purchases_gameends_group_A"
   ]
  },
  {
   "cell_type": "code",
   "execution_count": null,
   "metadata": {},
   "outputs": [],
   "source": [
    "sns.countplot(x=group_A[\"purchases\"], data=raw_data)"
   ]
  },
  {
   "cell_type": "markdown",
   "metadata": {},
   "source": [
    "**Some conclusions: The playing rounds in both groups tend to be higher as the number of purchases getting higher. This shows that some players are real funs of the game**"
   ]
  },
  {
   "cell_type": "code",
   "execution_count": null,
   "metadata": {},
   "outputs": [],
   "source": [
    "groupa_pur = sum(group_A.purchases)\n",
    "groupa_gameends = sum(group_A.gameends)\n",
    "print(groupa_pur, groupa_gameends)"
   ]
  },
  {
   "cell_type": "code",
   "execution_count": null,
   "metadata": {},
   "outputs": [],
   "source": [
    "game_behaviour_group_B = sum(group_B.purchases)/sum(group_B.gameends)*100\n",
    "game_behaviour_group_B"
   ]
  },
  {
   "cell_type": "code",
   "execution_count": null,
   "metadata": {},
   "outputs": [],
   "source": [
    "game_behaviour_group_A = sum(group_A.purchases)/sum(group_A.gameends)*100\n",
    "game_behaviour_group_A"
   ]
  },
  {
   "cell_type": "markdown",
   "metadata": {},
   "source": [
    "In Group B, when the num of purchases is higher, the number of rounds goes higher too. The same happens in Group A but less frequently since sometimes a high purchase does not mean more rounds. "
   ]
  },
  {
   "cell_type": "markdown",
   "metadata": {},
   "source": [
    "**TIME SPENT IN THE GAME DAILY TO THOSE WHO HAVE HIGHEST PURCHASES AND GAMEENDS**"
   ]
  },
  {
   "cell_type": "code",
   "execution_count": null,
   "metadata": {},
   "outputs": [],
   "source": [
    "funs = raw_data[(raw_data['purchases'] > 10) & (raw_data['gameends'] >=5)]\n",
    "funs\n"
   ]
  },
  {
   "cell_type": "markdown",
   "metadata": {},
   "source": [
    "From the above data we can conclude the following:\n",
    "\n",
    "Some users make 1 monthly purchase on average and play 1-2 times per month like the player with the playerid == 14907662. The third, fourth and fifth player of our above dataframe lie in the same category. Even the one before the end seems to be in this category based on his/her playing behaviour and the day of installation till activity date. So, we need to take into consideration the time span and not just the total num of purchases and gameends. \n",
    "\n",
    "Some other users are real funs like the playerid == 41458856 who purchases 383 times within a two month timeframe (see: install date to activity date). \n",
    "This seems to be an almost daily user of the game who plays approx 1 hour per day as seen from the gameends. "
   ]
  },
  {
   "cell_type": "code",
   "execution_count": null,
   "metadata": {},
   "outputs": [],
   "source": [
    "raw_data.install_date = pd.to_datetime(raw_data.install_date)\n",
    "raw_data.install_date"
   ]
  },
  {
   "cell_type": "code",
   "execution_count": null,
   "metadata": {},
   "outputs": [],
   "source": [
    "import pandas as pd\n",
    "import matplotlib.pyplot as plt\n",
    "import seaborn as sns"
   ]
  },
  {
   "cell_type": "markdown",
   "metadata": {},
   "source": [
    "**FROM THE ABOVE TIME SERIES GRAPH WE CAN SEE THAT SPECIFIC DATES AND MONTHS YIELD MORE PURCHASES AT A YEARLY BASIS. E.G. 2016-05-01**"
   ]
  },
  {
   "cell_type": "code",
   "execution_count": null,
   "metadata": {},
   "outputs": [],
   "source": [
    "sns.lineplot(x=group_B[\"conversion_date\"][100:110], y=group_B[\"purchases\"], data=group_B)\n",
    "plt.xticks(rotation=20)\n",
    "plt.title('Month of more purchases and conersions in Group B')\n",
    "plt.show()"
   ]
  },
  {
   "cell_type": "code",
   "execution_count": null,
   "metadata": {},
   "outputs": [],
   "source": [
    "sns.lineplot(x=group_A[\"conversion_date\"][200:210], y=group_A[\"purchases\"], data=group_A)\n",
    "plt.xticks(rotation=20)\n",
    "plt.title('Month of more purchases and conersions in Group A')\n",
    "plt.show()"
   ]
  },
  {
   "cell_type": "markdown",
   "metadata": {},
   "source": [
    "**SOME INSIGHTS: MID WINDER AND SUMMER ARE MONTHS WERE PEOPLE SEEM TO CONVERT MORE AND PURCHASE MORE**"
   ]
  },
  {
   "cell_type": "markdown",
   "metadata": {},
   "source": [
    "**STATISTICS AND DISTRIBUTIONS**"
   ]
  },
  {
   "cell_type": "markdown",
   "metadata": {},
   "source": [
    "Caslculating the conversion rate per A/B Test Group within the conversion date data"
   ]
  },
  {
   "cell_type": "code",
   "execution_count": null,
   "metadata": {},
   "outputs": [],
   "source": [
    "group_a_conversion_rate =len(conversion_date_data)/len(group_A.conversion_date)\n",
    "group_a_conversion_rate"
   ]
  },
  {
   "cell_type": "code",
   "execution_count": null,
   "metadata": {},
   "outputs": [],
   "source": [
    "group_b_conversion_rate =len(conversion_date_data)/len(group_B.conversion_date)\n",
    "group_b_conversion_rate"
   ]
  },
  {
   "cell_type": "markdown",
   "metadata": {},
   "source": [
    "**TIME TO USE STATISTICS, PROBABILITY AND DISTRIBUTIONS TO ANALYSE THE A/B TEST RESULTS IN THE WHOLE DATA FRAME**"
   ]
  },
  {
   "cell_type": "code",
   "execution_count": null,
   "metadata": {},
   "outputs": [],
   "source": [
    "raw_data"
   ]
  },
  {
   "cell_type": "code",
   "execution_count": null,
   "metadata": {},
   "outputs": [],
   "source": [
    "raw_data[\"conversion_date\"].iloc[raw_data[\"conversion_date\"] != 0] = 1\n",
    "raw_data"
   ]
  },
  {
   "cell_type": "code",
   "execution_count": null,
   "metadata": {},
   "outputs": [],
   "source": [
    "raw_data[\"conversion_date\"].unique()"
   ]
  },
  {
   "cell_type": "markdown",
   "metadata": {},
   "source": [
    "**ONLY 2.58% FROM OUR WHOLE CUSTOMERS MANAGED TO CONVERT**"
   ]
  },
  {
   "cell_type": "code",
   "execution_count": null,
   "metadata": {},
   "outputs": [],
   "source": [
    "raw_data[\"conversion_date\"].sum()/len(raw_data)*100"
   ]
  },
  {
   "cell_type": "code",
   "execution_count": null,
   "metadata": {},
   "outputs": [],
   "source": [
    "# Find unique users\n",
    "print(\"Unique users:\", len(raw_data.playerid.unique()))\n",
    "\n",
    "# Check for not unique users\n",
    "print(\"Non-unique users:\", len(raw_data)-len(raw_data.playerid.unique()))"
   ]
  },
  {
   "cell_type": "code",
   "execution_count": null,
   "metadata": {},
   "outputs": [],
   "source": [
    "# Probability of user converting\n",
    "print(\"Probability of user converting:\", raw_data.conversion_date.mean())"
   ]
  },
  {
   "cell_type": "code",
   "execution_count": null,
   "metadata": {},
   "outputs": [],
   "source": [
    "# Probability of control group converting\n",
    "\n",
    "old_features = raw_data[raw_data['abtest_group']=='A']['conversion_date'].mean()\n",
    "old_features"
   ]
  },
  {
   "cell_type": "code",
   "execution_count": null,
   "metadata": {},
   "outputs": [],
   "source": [
    "# Probability of experimental group converting\n",
    "\n",
    "popup_feature = raw_data[raw_data['abtest_group']=='B']['conversion_date'].mean()\n",
    "popup_feature"
   ]
  },
  {
   "cell_type": "code",
   "execution_count": null,
   "metadata": {},
   "outputs": [],
   "source": [
    "p_diff = popup_feature-old_features\n",
    "\n",
    "print(\"Difference in probability of conversion for new and old features (not under H_0):\", p_diff)"
   ]
  },
  {
   "cell_type": "code",
   "execution_count": null,
   "metadata": {},
   "outputs": [],
   "source": [
    "raw_data[\"abtest_group\"].iloc[raw_data[\"abtest_group\"] == \"B\"] = 1\n",
    "raw_data"
   ]
  },
  {
   "cell_type": "code",
   "execution_count": null,
   "metadata": {},
   "outputs": [],
   "source": [
    "n_new = raw_data[\"abtest_group\"][raw_data['abtest_group']==1].value_counts()\n",
    "\n",
    "print(\"new:\", n_new)"
   ]
  },
  {
   "cell_type": "code",
   "execution_count": null,
   "metadata": {},
   "outputs": [],
   "source": [
    "raw_data[\"abtest_group\"].iloc[raw_data[\"abtest_group\"] == \"A\"] = 2\n",
    "raw_data"
   ]
  },
  {
   "cell_type": "code",
   "execution_count": null,
   "metadata": {},
   "outputs": [],
   "source": [
    "n_old = raw_data[\"abtest_group\"][raw_data['abtest_group']==2].value_counts()\n",
    "\n",
    "print(\"old:\", n_old) "
   ]
  },
  {
   "cell_type": "code",
   "execution_count": null,
   "metadata": {},
   "outputs": [],
   "source": [
    "\n",
    "import statsmodels.api as sm\n",
    "\n",
    "# Calculate number of conversions\n",
    "\n",
    "convert_old = len(raw_data[(raw_data['abtest_group']==2)&(raw_data['conversion_date']==1)])\n",
    "convert_new = len(raw_data[(raw_data['abtest_group']==1)&(raw_data['conversion_date']==1)])\n",
    "\n",
    "print(\"convert_old:\", convert_old, \n",
    "      \"\\nconvert_new:\", convert_new,\n",
    "      \"\\nn_old:\", n_old,\n",
    "      \"\\nn_new:\", n_new)\n"
   ]
  },
  {
   "cell_type": "code",
   "execution_count": null,
   "metadata": {},
   "outputs": [],
   "source": [
    "import numpy as np\n",
    "from scipy.stats import norm\n",
    "\n",
    "mu_B = popup_feature\n",
    "mu_A = old_features\n",
    "\n",
    "var_B = mu_B * (1-mu_B)\n",
    "var_A = mu_A * (1-mu_A)\n",
    "\n",
    "n_B = convert_new\n",
    "n_A = convert_old\n",
    "\n",
    "Z = (mu_B - mu_A)/np.sqrt(var_B/n_B + var_A/n_A)\n",
    "pvalue = norm.sf(Z)\n",
    "\n",
    "print(\"Z-score: {0}\\np-value: {1}\".format(Z,pvalue))"
   ]
  },
  {
   "cell_type": "code",
   "execution_count": null,
   "metadata": {},
   "outputs": [],
   "source": [
    "import matplotlib.pyplot as plt\n",
    "\n",
    "z = np.arange(-3, 3, 0.1)\n",
    "plt.plot(z, norm.pdf(z))\n",
    "plt.fill_between(z[z>Z], norm.pdf(z[z>Z]))\n",
    "plt.show()"
   ]
  },
  {
   "cell_type": "markdown",
   "metadata": {},
   "source": [
    "Using standard deviation per group instead of variance"
   ]
  },
  {
   "cell_type": "code",
   "execution_count": null,
   "metadata": {},
   "outputs": [],
   "source": [
    "import numpy as np\n",
    "from scipy.stats import norm\n",
    "\n",
    "\n",
    "mu_B = popup_feature\n",
    "mu_A = old_features\n",
    "\n",
    "std_B = np.std(raw_data[\"abtest_group\"]==1)\n",
    "std_A = np.std(raw_data[\"abtest_group\"]==2)\n",
    "\n",
    "n_B = convert_new\n",
    "n_A = convert_old\n",
    "\n",
    "Z = (mu_B - mu_A)/np.sqrt(std_B**2/n_B + std_A**2/n_A)\n",
    "pvalue = norm.sf(Z)\n",
    "\n",
    "print(\"Z-score: {0}\\np-value: {1}\".format(Z,pvalue))"
   ]
  },
  {
   "cell_type": "markdown",
   "metadata": {},
   "source": [
    "**FINDING STANDARD DEVIATION FROM THE MEAN GIVES BETTER P-VALUE RESULTS THAN CALCULATING THE VARIANCE BUT IN BOTH CASES WE CAN SAY THAT WE CANNOT REJECT THE NULL HYPOTHESIS THAT SAYS: OLD FEATURES BRING MORE CONVERSIONS THAN THE POP UP ONE**"
   ]
  },
  {
   "cell_type": "code",
   "execution_count": null,
   "metadata": {},
   "outputs": [],
   "source": [
    "from scipy.stats import norm\n",
    "norm.cdf(Z) #how significant our z_score is"
   ]
  },
  {
   "cell_type": "code",
   "execution_count": null,
   "metadata": {},
   "outputs": [],
   "source": [
    "norm.ppf(1-(0.05)) #critical value of 95% confidence\n"
   ]
  },
  {
   "cell_type": "markdown",
   "metadata": {},
   "source": [
    "z_score is less than critical value of 95% confidence. Hence we fail to reject null hypothesis. Therefore the conclusion is that we accept null hypothesis."
   ]
  },
  {
   "cell_type": "markdown",
   "metadata": {},
   "source": [
    "**LOGISTIC REGRESSION FOR STATS ANALYSIS**"
   ]
  },
  {
   "cell_type": "code",
   "execution_count": null,
   "metadata": {},
   "outputs": [],
   "source": [
    "#adding an intercept column\n",
    "raw_data['intercept'] = 1\n",
    "\n",
    "#Create dummy variable column\n",
    "raw_data['ab_feature'] = pd.get_dummies(raw_data['abtest_group'])[1]\n",
    "\n",
    "raw_data.head()"
   ]
  },
  {
   "cell_type": "code",
   "execution_count": null,
   "metadata": {},
   "outputs": [],
   "source": [
    "import statsmodels.api as sm\n",
    "model=sm.Logit(raw_data['conversion_date'].astype(float),raw_data[['intercept','ab_feature']])\n",
    "results=model.fit()"
   ]
  },
  {
   "cell_type": "code",
   "execution_count": null,
   "metadata": {},
   "outputs": [],
   "source": [
    "results.summary()"
   ]
  },
  {
   "cell_type": "markdown",
   "metadata": {},
   "source": [
    "Conclusions:¶\n",
    "None of the variables have significant p-values. Therefore, we will fail to reject the null and conclude that there is not sufficient evidence to suggest that the new feature will bring more conversions and more customers.\n",
    "\n",
    "In the larger picture, based on the available information, we do not have sufficient evidence to suggest that the new feature results in more conversions than the old game architecture."
   ]
  }
 ],
 "metadata": {
  "interpreter": {
   "hash": "131794ed2fea1726aab55cd51fd4a6806a3b6d88a90f3b416ad55abec1f3bc94"
  },
  "kernelspec": {
   "display_name": "Python 3.8.9 ('ml-playground')",
   "language": "python",
   "name": "python3"
  },
  "language_info": {
   "codemirror_mode": {
    "name": "ipython",
    "version": 3
   },
   "file_extension": ".py",
   "mimetype": "text/x-python",
   "name": "python",
   "nbconvert_exporter": "python",
   "pygments_lexer": "ipython3",
   "version": "3.8.9"
  },
  "orig_nbformat": 4
 },
 "nbformat": 4,
 "nbformat_minor": 2
}
