{
 "cells": [
  {
   "cell_type": "markdown",
   "id": "dbf61738-fb2b-40e9-8624-7ff58443234a",
   "metadata": {},
   "source": [
    "# Definition of Credit Risk and its importance in Risk Assessment\n",
    "\n",
    "- What is Credit Risk and why is it important for Financial Institutions like banks, and fintech companies?\n",
    "\n",
    "It is the probability of a client (company, institution, individual) to not be able to pay their installments and fall on credit. \n",
    "\n",
    "Reasons for that are (the list below is not exhaustive):\n",
    "\n",
    "- Financial Problems and lack of liquidity\n",
    "- Sales dropped last X months\n",
    "- Recession and Covid\n",
    "\n",
    "Finding that probability, companies can take measures to either reduce the credit limit, reject a request if necessary or chase merchants who are always late on their financial obligations. That way they can reduce the risk of losing cashflow. For any business to operate in a healthy manner, liquidity is the most important metric. \n",
    "\n",
    "\n",
    "Two statistical formulas for Credit Risk Analysis are:\n",
    "\n",
    "1. Probability of Default (The likelihood of a borrower defaulting on a loan)\n",
    "2. VaR (Value at Risk) in Credit Risk (A statistical measure used to assess the risk of loss in a financial portfolio (e.g. fintech's profit margin))\n"
   ]
  },
  {
   "cell_type": "markdown",
   "id": "ec022093-293d-41e8-8533-d48bd5b90c97",
   "metadata": {},
   "source": [
    "# Task 1"
   ]
  },
  {
   "cell_type": "markdown",
   "id": "e3217673-21a1-4fbf-bd26-76ed0317aeec",
   "metadata": {},
   "source": [
    "## 1.1 Load and merge dataframes from xlsx file with multiple Sheets"
   ]
  },
  {
   "cell_type": "code",
   "execution_count": null,
   "id": "a23d53e2",
   "metadata": {},
   "outputs": [],
   "source": [
    "import pandas as pd \n",
    "import numpy as np\n",
    "from sklearn.preprocessing import LabelEncoder\n",
    "import missingno as msno\n",
    "import matplotlib.pyplot as plt\n",
    "import seaborn as sns\n",
    "import plotly.express as px\n",
    "\n",
    "applications = pd.read_excel('two_data.xlsx', sheet_name='applications')\n",
    "company_data = pd.read_excel('two_data.xlsx', sheet_name='company_data')\n",
    "payment_performance = pd.read_excel('two_data.xlsx', sheet_name='payment_performance')\n",
    "\n",
    "applications"
   ]
  },
  {
   "cell_type": "code",
   "execution_count": null,
   "id": "1e7d35c2-0467-43e6-b98e-1690c0de07e7",
   "metadata": {},
   "outputs": [],
   "source": [
    "company_data"
   ]
  },
  {
   "cell_type": "code",
   "execution_count": null,
   "id": "6d3a3f72-1600-4bf5-8400-1a11e6f9fad9",
   "metadata": {},
   "outputs": [],
   "source": [
    "payment_performance"
   ]
  },
  {
   "cell_type": "code",
   "execution_count": null,
   "id": "e0ce08df-ddc6-446d-8800-13003a3aabe3",
   "metadata": {},
   "outputs": [],
   "source": [
    "print(applications.columns, company_data.columns, payment_performance.columns)"
   ]
  },
  {
   "cell_type": "code",
   "execution_count": null,
   "id": "28541f3a-fb54-4cad-93b6-5292bb2b4ac0",
   "metadata": {},
   "outputs": [],
   "source": [
    "# Joined at invoice level -- not company level to avoid duplications \n",
    "# Analysing risk per application"
   ]
  },
  {
   "cell_type": "code",
   "execution_count": null,
   "id": "4b83a7d8-cd1b-46c3-aa55-f60154a6afd0",
   "metadata": {},
   "outputs": [],
   "source": [
    "app_to_companies = applications.merge(company_data, on='company_id', how='left')\n",
    "\n",
    "payments_to_companies = payment_performance.merge(company_data, on='company_id', how='left')\n",
    "\n",
    "joined_dfs = app_to_companies.merge(payment_performance, on=['company_id', 'invoice_id'], how='left')\n",
    "joined_dfs"
   ]
  },
  {
   "cell_type": "markdown",
   "id": "4757afde-eeb5-4ab2-98df-fafdf5db02a7",
   "metadata": {},
   "source": [
    "# Data Cleaning and Basic EDA"
   ]
  },
  {
   "cell_type": "code",
   "execution_count": null,
   "id": "154ac029-a9cd-4855-b72f-85cfd5fd3712",
   "metadata": {},
   "outputs": [],
   "source": [
    "# Understanding columns with nan values"
   ]
  },
  {
   "cell_type": "code",
   "execution_count": null,
   "id": "a585b17d-dd72-4f16-b86c-3ff95e56f81b",
   "metadata": {},
   "outputs": [],
   "source": [
    "msno.matrix(joined_dfs)\n",
    "plt.show()"
   ]
  },
  {
   "cell_type": "code",
   "execution_count": null,
   "id": "9028b2e1-e119-424a-b5f0-08d590e94aa9",
   "metadata": {},
   "outputs": [],
   "source": [
    "joined_dfs['application_date'] = pd.to_datetime(joined_dfs['application_date'], errors='coerce').dt.strftime('%Y-%m-%d')\n",
    "joined_dfs['incorporation_date'] = pd.to_datetime(joined_dfs['incorporation_date'], errors='coerce').dt.strftime('%Y-%m-%d')\n",
    "\n",
    "joined_dfs"
   ]
  },
  {
   "cell_type": "code",
   "execution_count": null,
   "id": "13fd40f6-5e51-4111-9620-61e9838af65d",
   "metadata": {},
   "outputs": [],
   "source": [
    "joined_dfs.isna().sum().sort_values(ascending=False)\n"
   ]
  },
  {
   "cell_type": "code",
   "execution_count": null,
   "id": "123aa0b7-861c-44bc-8bdd-eac597b1414b",
   "metadata": {},
   "outputs": [],
   "source": [
    "# fill categorical data with unknown since we cannot know the exact value missing"
   ]
  },
  {
   "cell_type": "code",
   "execution_count": null,
   "id": "bc9376ba-c044-4928-ae42-e69519a64a27",
   "metadata": {},
   "outputs": [],
   "source": [
    "joined_dfs['industry_segment'] = joined_dfs['industry_segment'].fillna('Unknown')\n",
    "joined_dfs['postcode_area'] = joined_dfs['postcode_area'].fillna('Unknown')\n",
    "\n",
    "joined_dfs['external_credit_rating_missing'] = joined_dfs['external_credit_rating'].isna().astype(int)\n",
    "joined_dfs['external_credit_rating'] = joined_dfs['external_credit_rating'].fillna('Unknown')\n",
    "joined_dfs"
   ]
  },
  {
   "cell_type": "code",
   "execution_count": null,
   "id": "540dc0b0-238e-4181-9b68-a56b7e528426",
   "metadata": {},
   "outputs": [],
   "source": [
    "# compute random date of the past for missing values."
   ]
  },
  {
   "cell_type": "code",
   "execution_count": null,
   "id": "b5192f07-5474-489a-9c87-a73652ff944b",
   "metadata": {},
   "outputs": [],
   "source": [
    "joined_dfs['incorporation_date'] = pd.to_datetime(joined_dfs['incorporation_date'], errors='coerce')\\\n",
    "    .fillna(pd.Timestamp('1970-01-01'))\\\n",
    "    .dt.strftime('%Y-%m-%d')\n",
    "\n",
    "joined_dfs['payment_date'] = pd.to_datetime(joined_dfs['payment_date'], errors='coerce')\\\n",
    "    .fillna(pd.Timestamp('1970-01-01'))\\\n",
    "    .dt.strftime('%Y-%m-%d')\n",
    "joined_dfs"
   ]
  },
  {
   "cell_type": "code",
   "execution_count": null,
   "id": "dc3520e3-8f2b-4c42-be99-bd8748280477",
   "metadata": {},
   "outputs": [],
   "source": [
    "joined_dfs['incorporation_date_missing'] = (joined_dfs['incorporation_date'] == '1970-01-01').astype(int)\n",
    "joined_dfs['payment_date_missing'] = (joined_dfs['payment_date'] == '1970-01-01').astype(int)\n",
    "print(joined_dfs.columns)\n",
    "joined_dfs"
   ]
  },
  {
   "cell_type": "code",
   "execution_count": null,
   "id": "98c1117c-02a0-4625-89a1-7a9e4798b04a",
   "metadata": {},
   "outputs": [],
   "source": [
    "# Check distributions of working capital and net worth before filling the nan values -- if outliers exist, median would help"
   ]
  },
  {
   "cell_type": "code",
   "execution_count": null,
   "id": "a4b272dd-a1ea-449a-bd9c-a2334c907b47",
   "metadata": {},
   "outputs": [],
   "source": [
    "\n",
    "plt.figure(figsize=(12, 6))\n",
    "\n",
    "plt.subplot(1, 2, 1)\n",
    "sns.histplot(joined_dfs['working_capital'], kde=True, color=\"dodgerblue\", bins=30, edgecolor=\"black\")\n",
    "plt.title('Distribution of Working Capital', fontsize=16)\n",
    "plt.xlabel('Working Capital', fontsize=14)\n",
    "plt.ylabel('Frequency', fontsize=14)\n",
    "\n",
    "\n",
    "plt.show()"
   ]
  },
  {
   "cell_type": "code",
   "execution_count": null,
   "id": "1f4a5cb5-a57d-465e-9f96-768852b6e106",
   "metadata": {},
   "outputs": [],
   "source": [
    "plt.figure(figsize=(14, 7))\n",
    "\n",
    "plt.subplot(1, 2, 1)\n",
    "sns.histplot(joined_dfs['net_worth'], kde=True, color=\"mediumseagreen\", bins=30, edgecolor=\"black\")\n",
    "plt.title('Distribution of Net Worth', fontsize=16)\n",
    "plt.xlabel('Net Worth', fontsize=14)\n",
    "plt.ylabel('Frequency', fontsize=14)\n"
   ]
  },
  {
   "cell_type": "code",
   "execution_count": null,
   "id": "2bce73cb-5e73-4178-ad17-228020f31375",
   "metadata": {},
   "outputs": [],
   "source": [
    "# computing median of net worth and working capital since not all companies are having same sales \n",
    "# and net worth (industry sizes, locations, people's interests in purchases). \n",
    "# thus median is an appropriate metric in this case. "
   ]
  },
  {
   "cell_type": "code",
   "execution_count": null,
   "id": "20f94ab2-456c-4dbc-818a-5083de4ebdd3",
   "metadata": {},
   "outputs": [],
   "source": [
    "\n",
    "joined_dfs['payment_status'] = joined_dfs['payment_date'].isna().map({True: 'Unpaid', False: 'Paid'})\n",
    "joined_dfs"
   ]
  },
  {
   "cell_type": "code",
   "execution_count": null,
   "id": "74667eb2-507e-4adb-a52d-00cebc057891",
   "metadata": {},
   "outputs": [],
   "source": [
    "joined_dfs['working_capital'] = joined_dfs['working_capital'].fillna(joined_dfs['working_capital'].median())\n",
    "joined_dfs['net_worth'] = joined_dfs['net_worth'].fillna(joined_dfs['net_worth'].median())\n",
    "\n",
    "print(joined_dfs[['working_capital', 'net_worth']].isna().sum())"
   ]
  },
  {
   "cell_type": "markdown",
   "id": "a799e68a-d0f8-47b1-9d3a-ddeb47a1da3d",
   "metadata": {},
   "source": [
    "# Analyse Risk Score Column"
   ]
  },
  {
   "cell_type": "code",
   "execution_count": null,
   "id": "03ec4a18-780e-43a0-bbb8-1986bdf9d72e",
   "metadata": {},
   "outputs": [],
   "source": [
    "joined_dfs['risk_score'].isna().sum()"
   ]
  },
  {
   "cell_type": "code",
   "execution_count": null,
   "id": "9a6c88b5-3cb5-423d-9d76-827baaa6f3a7",
   "metadata": {},
   "outputs": [],
   "source": [
    "summary_stats = joined_dfs['risk_score'].describe()\n",
    "median_val = joined_dfs['risk_score'].median()\n",
    "\n",
    "print(summary_stats)\n",
    "print(median_val)"
   ]
  },
  {
   "cell_type": "code",
   "execution_count": null,
   "id": "9e3b01aa-1681-4e84-8d17-834e31cbab01",
   "metadata": {},
   "outputs": [],
   "source": [
    "# Outlier detection using IQR\n",
    "\n",
    "Q1 = joined_dfs['risk_score'].quantile(0.25)\n",
    "Q3 = joined_dfs['risk_score'].quantile(0.75)\n",
    "IQR = Q3 - Q1\n",
    "lower_bound = Q1 - 1.5 * IQR\n",
    "upper_bound = Q3 + 1.5 * IQR\n",
    "\n",
    "outliers = joined_dfs[(joined_dfs['risk_score'] < lower_bound) | (joined_dfs['risk_score'] > upper_bound)]\n",
    "print(len(outliers))\n",
    "\n",
    "plt.figure(figsize=(10, 6))\n",
    "sns.histplot(joined_dfs['risk_score'], bins=30, kde=True, color='dodgerblue', edgecolor='black')\n",
    "plt.title(\"Distribution of Risk Score\", fontsize=14)\n",
    "plt.xlabel(\"Risk Score\")\n",
    "plt.ylabel(\"Frequency\")\n",
    "plt.grid(True, alpha=0.3)\n",
    "plt.tight_layout()\n",
    "plt.show()"
   ]
  },
  {
   "cell_type": "code",
   "execution_count": null,
   "id": "e6538af6-2942-41bc-9804-838baae7df4d",
   "metadata": {},
   "outputs": [],
   "source": [
    "# Since there are outliers in the risk score, we can use median to impute the missing values"
   ]
  },
  {
   "cell_type": "code",
   "execution_count": null,
   "id": "0f4b6aff-831b-4529-b767-fec5b38fa66f",
   "metadata": {},
   "outputs": [],
   "source": [
    "joined_dfs['risk_score'] = joined_dfs['risk_score'].fillna(joined_dfs['risk_score'].median())\n",
    "joined_dfs['risk_score'].isna().sum()"
   ]
  },
  {
   "cell_type": "code",
   "execution_count": null,
   "id": "33d34d4b-a23a-4430-ada1-25775467225c",
   "metadata": {},
   "outputs": [],
   "source": [
    "default_rates = joined_dfs.groupby('industry_segment')['default_status'].sum().reset_index()\n",
    "\n",
    "fig1 = px.bar(default_rates, x='industry_segment', y='default_status', \n",
    "              title='Default Rate Comparison by Industry Segment',\n",
    "              labels={'default_status': 'Default Rate', 'industry_segment': 'Industry Segment'},\n",
    "              color='industry_segment', color_continuous_scale='Viridis')\n",
    "\n",
    "fig1.update_layout(xaxis_title='Industry Segment', yaxis_title='Default Rate')\n",
    "fig1.show()"
   ]
  },
  {
   "cell_type": "code",
   "execution_count": null,
   "id": "4f283495-4a3b-47f4-a19b-18a9a0469683",
   "metadata": {},
   "outputs": [],
   "source": [
    "default_rates = joined_dfs.groupby('industry_segment')['default_status'].mean().reset_index()\n",
    "\n",
    "fig1 = px.bar(default_rates, x='industry_segment', y='default_status', \n",
    "              title='Default Rate Comparison by Industry Segment',\n",
    "              labels={'default_status': 'Default Rate', 'industry_segment': 'Industry Segment'},\n",
    "              color='industry_segment', color_continuous_scale='Viridis')\n",
    "\n",
    "fig1.update_layout(xaxis_title='Industry Segment', yaxis_title='Default Rate')\n",
    "fig1.show()"
   ]
  },
  {
   "cell_type": "markdown",
   "id": "0f20b0dd-fd1f-4bca-8e22-0970c3e85420",
   "metadata": {},
   "source": [
    "## More Visualisations for EDA & set to default those who paid their invoices after 90 days or never"
   ]
  },
  {
   "cell_type": "code",
   "execution_count": null,
   "id": "19e805ca-0031-4eed-8f81-a4d216956acf",
   "metadata": {},
   "outputs": [],
   "source": [
    "joined_dfs['due_date'] = pd.to_datetime(joined_dfs['due_date'])\n",
    "joined_dfs['payment_date'] = pd.to_datetime(joined_dfs['payment_date'])\n",
    "\n",
    "# Compute days late (for invoices that were paid)\n",
    "joined_dfs['days_late'] = (joined_dfs['payment_date'] - joined_dfs['due_date']).dt.days\n",
    "\n",
    "# Default status: True if unpaid or paid after 90+ days\n",
    "joined_dfs['default_status'] = np.where(\n",
    "    (joined_dfs['payment_date'].isna()) | (joined_dfs['days_late'] > 90),\n",
    "    True,\n",
    "    False\n",
    ")"
   ]
  },
  {
   "cell_type": "code",
   "execution_count": null,
   "id": "63f074c6-4959-4826-8cd0-fd931a3e62be",
   "metadata": {},
   "outputs": [],
   "source": [
    "default_rates = joined_dfs.groupby('industry_segment')['default_status'].mean().reset_index()\n",
    "\n",
    "fig1 = px.bar(default_rates, x='industry_segment', y='default_status', \n",
    "              title='Default Rate Comparison by Industry Segment',\n",
    "              labels={'default_status': 'Default Rate', 'industry_segment': 'Industry Segment'},\n",
    "              color='industry_segment', color_continuous_scale='Viridis')\n",
    "\n",
    "fig1.update_layout(xaxis_title='Industry Segment', yaxis_title='Default Rate')\n",
    "fig1.show()"
   ]
  },
  {
   "cell_type": "code",
   "execution_count": null,
   "id": "5def3a6d-82d3-4c2e-a967-0712f84d83eb",
   "metadata": {},
   "outputs": [],
   "source": [
    "fig2 = px.box(joined_dfs, x='default_status', y='risk_score', \n",
    "              title='Risk Score vs. Default Status',\n",
    "              labels={'default_status': 'Default Status', 'risk_score': 'Risk Score'},\n",
    "              color='default_status')\n",
    "\n",
    "fig2.update_layout(xaxis_title='Default Status', yaxis_title='Risk Score')\n",
    "fig2.show()"
   ]
  },
  {
   "cell_type": "markdown",
   "id": "d6e9e248-8b74-4c0d-a438-ccf409aa0dfd",
   "metadata": {},
   "source": [
    "## Risk factor Interactions"
   ]
  },
  {
   "cell_type": "code",
   "execution_count": null,
   "id": "c1374c8a-0c30-454f-8479-1d1fc71f5174",
   "metadata": {},
   "outputs": [],
   "source": [
    "fig = px.scatter_3d(joined_dfs, x='requested_amount', y='working_capital', z='risk_score', color='default_status')\n",
    "fig.show()"
   ]
  },
  {
   "cell_type": "markdown",
   "id": "c96aa2ac-de6a-4e9d-b40a-e25eb615f0ec",
   "metadata": {},
   "source": [
    "**Note**: High risk score in combination with low working capital despite the requested amount are indicators of default (credit risk)"
   ]
  },
  {
   "cell_type": "markdown",
   "id": "013d5679-52a4-44b9-bd18-ee0f651cdefc",
   "metadata": {},
   "source": [
    "## Some Time Series Analysis to Invoice Date and Default Status"
   ]
  },
  {
   "cell_type": "code",
   "execution_count": null,
   "id": "76649974-81e3-46af-a374-17ba2c6ac5e2",
   "metadata": {},
   "outputs": [],
   "source": [
    "joined_dfs['invoice_date'] = pd.to_datetime(joined_dfs['invoice_date'])\n",
    "\n",
    "df_true = joined_dfs[joined_dfs['default_status'] == 1]\n",
    "df_false = joined_dfs[joined_dfs['default_status'] == 0]\n",
    "\n",
    "df_true_grouped = df_true.groupby('invoice_date').size().reset_index(name='defaults_true')\n",
    "df_false_grouped = df_false.groupby('invoice_date').size().reset_index(name='defaults_false')\n",
    "\n",
    "df_merged = pd.merge(df_true_grouped, df_false_grouped, on='invoice_date', how='outer')\n",
    "\n",
    "df_merged.fillna(0, inplace=True)\n",
    "\n",
    "fig = px.line(df_merged, x='invoice_date', y=['defaults_true', 'defaults_false'],\n",
    "              title=\"Default Rate Over Time (True vs False)\",\n",
    "              labels={'defaults_true': 'Defaults True', 'defaults_false': 'Defaults False'})\n",
    "\n",
    "fig.update_traces(line=dict(color='red'), selector=dict(name='defaults_true'))\n",
    "fig.update_traces(line=dict(color='green'), selector=dict(name='defaults_false'))\n",
    "\n",
    "fig.show()\n"
   ]
  },
  {
   "cell_type": "code",
   "execution_count": null,
   "id": "03498c2c-1939-4959-8c40-e41d98263f8b",
   "metadata": {},
   "outputs": [],
   "source": [
    "joined_dfs['due_date'] = pd.to_datetime(joined_dfs['due_date'])\n",
    "\n",
    "df_true = joined_dfs[joined_dfs['default_status'] == 1]\n",
    "df_false = joined_dfs[joined_dfs['default_status'] == 0]\n",
    "\n",
    "df_true_grouped = df_true.groupby('due_date').size().reset_index(name='defaults_true')\n",
    "df_false_grouped = df_false.groupby('due_date').size().reset_index(name='defaults_false')\n",
    "\n",
    "df_merged = pd.merge(df_true_grouped, df_false_grouped, on='due_date', how='outer')\n",
    "\n",
    "df_merged.fillna(0, inplace=True)\n",
    "\n",
    "fig = px.line(df_merged, x='due_date', y=['defaults_true', 'defaults_false'],\n",
    "              title=\"Default Rate Over Due Time (True vs False)\",\n",
    "              labels={'defaults_true': 'Defaults True', 'defaults_false': 'Defaults False'})\n",
    "\n",
    "fig.update_traces(line=dict(color='red'), selector=dict(name='defaults_true'))\n",
    "fig.update_traces(line=dict(color='green'), selector=dict(name='defaults_false'))\n",
    "\n",
    "fig.show()"
   ]
  },
  {
   "cell_type": "markdown",
   "id": "34f325da-6dbe-4cbd-b64e-5755ca9b82f8",
   "metadata": {},
   "source": [
    "**Note**: April to May 2022 we see some spikes in defaults suggesting that credit risk can be impacted by seasonality trends, \n",
    "or other macroeconomic risk factors such as recession risks, consumer confidence indecies, lack of sales to name a few"
   ]
  },
  {
   "cell_type": "markdown",
   "id": "dcbb7ad3-92b3-4d3b-b318-11cb131026d9",
   "metadata": {},
   "source": [
    "## Compute deltas of \"days to pay\" to see if this affects default status"
   ]
  },
  {
   "cell_type": "code",
   "execution_count": null,
   "id": "6f930397-f745-493b-83ee-9e83e020566d",
   "metadata": {},
   "outputs": [],
   "source": [
    "joined_dfs['payment_date'] = pd.to_datetime(joined_dfs['payment_date'])\n",
    "joined_dfs['due_date'] = pd.to_datetime(joined_dfs['due_date'])\n",
    "\n",
    "joined_dfs['delay_days'] = (joined_dfs['payment_date'] - joined_dfs['due_date']).dt.days\n",
    "\n",
    "joined_dfs_filtered = joined_dfs.dropna(subset=['delay_days', 'default_status'])\n",
    "\n",
    "fig_violin = px.violin(\n",
    "    joined_dfs_filtered,\n",
    "    y=\"delay_days\",\n",
    "    x=\"default_status\",\n",
    "    box=True,\n",
    "    points=\"all\",\n",
    "    color=\"default_status\",\n",
    "    title=\"Payment Delay (Days) by Default Status\",\n",
    "    labels={\"delay_days\": \"Days Late\", \"default_status\": \"Defaulted\"},\n",
    ")\n",
    "fig_violin.show()\n",
    "\n",
    "fig_box = px.box(\n",
    "    joined_dfs_filtered,\n",
    "    x=\"default_status\",\n",
    "    y=\"delay_days\",\n",
    "    color=\"default_status\",\n",
    "    title=\"Distribution of Payment Delays by Default Status\",\n",
    "    labels={\"delay_days\": \"Days Late\", \"default_status\": \"Defaulted\"},\n",
    ")\n",
    "fig_box.show()\n",
    "\n",
    "summary = joined_dfs_filtered.groupby(\"default_status\")[\"delay_days\"].describe()\n",
    "print(\"Summary statistics for payment delays by default status:\")\n",
    "print(summary)\n"
   ]
  },
  {
   "cell_type": "markdown",
   "id": "8be07416-26bf-4c34-9c54-264b99c4289b",
   "metadata": {},
   "source": [
    "Some companies which did not pay their amount surpassed the delayed days a lot (reaching up to a year almost)! -- Thus, we can conclude that specific delta could prompt us to expect default and so we should chase clients who take to long to respond to their financial obligations."
   ]
  },
  {
   "cell_type": "markdown",
   "id": "2755bfaf-7d00-470f-ac17-14b97a268e29",
   "metadata": {},
   "source": [
    "# 1.2 Compare construction segment to other industries with summary statistics"
   ]
  },
  {
   "cell_type": "code",
   "execution_count": null,
   "id": "9f60a866-cb3c-40e2-9ddf-31c24add6598",
   "metadata": {},
   "outputs": [],
   "source": [
    "joined_dfs.groupby('industry_segment')[['working_capital', 'net_worth']].describe()"
   ]
  },
  {
   "cell_type": "code",
   "execution_count": null,
   "id": "cfe3be49-3bc4-440c-8f34-48ba02a6792a",
   "metadata": {},
   "outputs": [],
   "source": [
    "joined_dfs.groupby('industry_segment')['risk_score'].describe()"
   ]
  },
  {
   "cell_type": "code",
   "execution_count": null,
   "id": "cc8bc462-984b-4716-9737-dd880210d061",
   "metadata": {},
   "outputs": [],
   "source": [
    "joined_dfs['default_status'] = joined_dfs['default_status'].astype(int)\n",
    "\n",
    "industry_default_rate = (\n",
    "    joined_dfs.groupby('industry_segment')['default_status']\n",
    "    .mean()\n",
    "    .reset_index()\n",
    "    .rename(columns={'default_status': 'default_rate'})\n",
    "    .sort_values(by='default_rate', ascending=False)\n",
    ")\n",
    "\n",
    "fig = px.bar(\n",
    "    industry_default_rate,\n",
    "    x='industry_segment',\n",
    "    y='default_rate',\n",
    "    color='default_rate',\n",
    "    color_continuous_scale='Reds',\n",
    "    title='Default Rate by Industry Segment',\n",
    "    labels={'default_rate': 'Default Rate', 'industry_segment': 'Industry Segment'}\n",
    ")\n",
    "\n",
    "fig.update_layout(xaxis_tickangle=-45)\n",
    "fig.show()\n"
   ]
  },
  {
   "cell_type": "markdown",
   "id": "35418006-0ecc-48e1-82d3-ee0116b081a1",
   "metadata": {},
   "source": [
    "# 1.3 Using payments data, calculate key risk metrics for the Construction vs. other segments."
   ]
  },
  {
   "cell_type": "code",
   "execution_count": null,
   "id": "b36a8b88-2175-4bd7-b2fe-5ce5b9da9938",
   "metadata": {},
   "outputs": [],
   "source": [
    "joined_dfs['invoice_date'] = pd.to_datetime(joined_dfs['invoice_date'])\n",
    "joined_dfs['due_date'] = pd.to_datetime(joined_dfs['due_date'])\n",
    "joined_dfs['payment_date'] = pd.to_datetime(joined_dfs['payment_date'])\n",
    "\n",
    "joined_dfs['days_late'] = (joined_dfs['payment_date'] - joined_dfs['due_date']).dt.days\n",
    "\n",
    "joined_dfs['days_outstanding'] = (joined_dfs['payment_date'] - joined_dfs['invoice_date']).dt.days\n",
    "\n",
    "default_rate = joined_dfs.groupby('industry_segment')['default_status'].mean()\n",
    "\n",
    "late_payment_rate = (joined_dfs[joined_dfs['days_late'] > 0].groupby('industry_segment').size() / joined_dfs.groupby('industry_segment').size())\n",
    "\n",
    "avg_invoice_amount = joined_dfs.groupby('industry_segment')['invoice_amount'].mean()\n",
    "\n",
    "avg_days_outstanding = joined_dfs.groupby('industry_segment')['days_outstanding'].mean()\n",
    "\n",
    "risk_metrics = pd.DataFrame({\n",
    "    'Default Rate': default_rate,\n",
    "    'Late Payment Rate': late_payment_rate,\n",
    "    'Avg Invoice Amount': avg_invoice_amount,\n",
    "    'Avg Days Outstanding': avg_days_outstanding\n",
    "})\n",
    "\n",
    "construction_metrics = risk_metrics.loc[['Construct']]\n",
    "other_metrics = risk_metrics.drop('Construct')\n",
    "\n",
    "comparison_metrics = pd.concat([construction_metrics, other_metrics])\n",
    "\n",
    "comparison_metrics\n"
   ]
  },
  {
   "cell_type": "code",
   "execution_count": null,
   "id": "21bf0a2f-cb06-4adb-9cae-d2f98fd71d4f",
   "metadata": {},
   "outputs": [],
   "source": [
    "sns.set(style=\"whitegrid\")\n",
    "plt.figure(figsize=(12, 6))\n",
    "\n",
    "ordered_segments = (\n",
    "    joined_dfs.groupby('industry_segment')['risk_score']\n",
    "    .median()\n",
    "    .sort_values()\n",
    "    .index\n",
    ")\n",
    "\n",
    "sns.boxplot(x='industry_segment', y='risk_score', data=joined_dfs,\n",
    "            order=ordered_segments, palette=\"Set3\")\n",
    "\n",
    "plt.axhline(y=5, color='red', linestyle='--', label='Default Threshold (risk_score = 5)')\n",
    "\n",
    "plt.title(\"Risk Score Distribution by Industry Segment\")\n",
    "plt.xlabel(\"Industry Segment\")\n",
    "plt.ylabel(\"Risk Score\")\n",
    "plt.xticks(rotation=45)\n",
    "plt.legend()\n",
    "\n",
    "plt.tight_layout()\n",
    "plt.show()\n"
   ]
  },
  {
   "cell_type": "markdown",
   "id": "8a37be34-c1f3-493a-8d8d-35a6bc07a671",
   "metadata": {},
   "source": [
    "# 1.4 Identify any features from the data that appear correlated with default_status or\n",
    "# suggest additional features to explore."
   ]
  },
  {
   "cell_type": "code",
   "execution_count": null,
   "id": "666d3c0c-cbab-4a6d-bf6e-c654c3ce2511",
   "metadata": {},
   "outputs": [],
   "source": [
    "categorical_features = ['industry_segment', 'legal_form', 'external_credit_rating', 'postcode_area', 'approved_amount',]\n",
    "\n",
    "label_encoder = LabelEncoder()\n",
    "\n",
    "for feature in categorical_features:\n",
    "    joined_dfs[feature] = label_encoder.fit_transform(joined_dfs[feature].astype(str))\n",
    "\n",
    "correlations_categorical = joined_dfs[categorical_features + ['default_status']].corr()\n",
    "print(correlations_categorical)\n",
    "\n",
    "sns.heatmap(correlations_categorical, annot=True, cmap='coolwarm', fmt='.2f')\n",
    "plt.show()"
   ]
  },
  {
   "cell_type": "code",
   "execution_count": null,
   "id": "34985a7e-900c-4516-87ea-23df29ed3871",
   "metadata": {},
   "outputs": [],
   "source": [
    "joined_dfs['liquidity_ratio'] = joined_dfs['working_capital'] / joined_dfs['net_worth']\n",
    "\n",
    "joined_dfs['due_date'] = pd.to_datetime(joined_dfs['due_date'])\n",
    "joined_dfs['payment_date'] = pd.to_datetime(joined_dfs['payment_date'])\n",
    "\n",
    "joined_dfs['days_outstanding'] = (joined_dfs['payment_date'] - joined_dfs['due_date']).dt.days"
   ]
  },
  {
   "cell_type": "code",
   "execution_count": null,
   "id": "7b835dc6-3bed-4b75-bf9b-2e2a2ae497e1",
   "metadata": {},
   "outputs": [],
   "source": [
    "numerical_features = ['requested_amount', 'risk_score', 'invoice_amount', 'external_credit_rating', 'liquidity_ratio', 'days_outstanding']\n",
    "\n",
    "correlations = joined_dfs[numerical_features + ['default_status']].corr()\n",
    "print(correlations)\n",
    "\n",
    "sns.heatmap(correlations, annot=True, cmap='coolwarm', fmt='.2f')\n",
    "plt.show()"
   ]
  },
  {
   "cell_type": "code",
   "execution_count": null,
   "id": "1ab6b3eb-3271-45c2-a76c-541a64e2b8dd",
   "metadata": {},
   "outputs": [],
   "source": [
    "joined_dfs.columns"
   ]
  },
  {
   "cell_type": "markdown",
   "id": "2a477d38-2685-435a-91e1-77ce45d78f6e",
   "metadata": {},
   "source": [
    "## More Visualisations"
   ]
  },
  {
   "cell_type": "code",
   "execution_count": null,
   "id": "3c6f6880-db78-4e12-b53a-fcdfcfb4f53e",
   "metadata": {},
   "outputs": [],
   "source": [
    "fig3 = px.scatter(joined_dfs, x='invoice_amount', y='days_outstanding', \n",
    "                  color='default_status', \n",
    "                  title='Invoice Amount vs. Days Outstanding',\n",
    "                  labels={'invoice_amount': 'Invoice Amount', 'days_outstanding': 'Days Outstanding'})\n",
    "\n",
    "fig3.update_layout(xaxis_title='Invoice Amount', yaxis_title='Days Outstanding')\n",
    "fig3.show()"
   ]
  },
  {
   "cell_type": "code",
   "execution_count": null,
   "id": "b9a24a6a-6e48-43bb-bc06-7a5fb7802919",
   "metadata": {},
   "outputs": [],
   "source": [
    "fig4 = px.box(joined_dfs, x='default_status', y='liquidity_ratio', \n",
    "              title='Liquidity Ratio vs. Default Status',\n",
    "              labels={'default_status': 'Default Status', 'liquidity_ratio': 'Liquidity Ratio'},\n",
    "              color='default_status')\n",
    "\n",
    "fig4.update_layout(xaxis_title='Default Status', yaxis_title='Liquidity Ratio')\n",
    "fig4.show()"
   ]
  },
  {
   "cell_type": "code",
   "execution_count": null,
   "id": "d0e58fca-a2c1-4d5b-9008-d2dec513cb33",
   "metadata": {},
   "outputs": [],
   "source": [
    "fig5 = px.box(joined_dfs, x='default_status', y='working_capital', \n",
    "              title='Working Capital vs. Default Status',\n",
    "              labels={'default_status': 'Default Status', 'working_capital': 'Working Capital'},\n",
    "              color='default_status')\n",
    "\n",
    "fig5.update_layout(xaxis_title='Default Status', yaxis_title='Working Capital')\n",
    "fig5.show()\n"
   ]
  },
  {
   "cell_type": "markdown",
   "id": "f854c3fa-96a2-4d3a-8be6-0d9bf4e65938",
   "metadata": {},
   "source": [
    "**Note**: higher working capital and network, thus liquidity ratio, less likely to default"
   ]
  },
  {
   "cell_type": "code",
   "execution_count": null,
   "id": "956532c3-0d8e-4f72-8ad7-d9bb42de6ff0",
   "metadata": {},
   "outputs": [],
   "source": [
    "fig9 = px.box(joined_dfs, x='default_status', y='net_worth', \n",
    "              title='Net Worth vs. Default Status',\n",
    "              labels={'default_status': 'Default Status', 'net_worth': 'Net Worth'},\n",
    "              color='default_status')\n",
    "\n",
    "fig9.update_layout(xaxis_title='Default Status', yaxis_title='Net Worth')\n",
    "fig9.show()\n"
   ]
  },
  {
   "cell_type": "code",
   "execution_count": null,
   "id": "3629108f-9164-4b0d-b9ea-2dc0efd5ded3",
   "metadata": {},
   "outputs": [],
   "source": [
    "fig8 = px.box(joined_dfs, x='default_status', y='external_credit_rating', \n",
    "              title='External Credit Rating vs. Default Status',\n",
    "              labels={'default_status': 'Default Status', 'external_credit_rating': 'External Credit Rating'},\n",
    "              color='default_status')\n",
    "\n",
    "fig8.update_layout(xaxis_title='Default Status', yaxis_title='External Credit Rating')\n",
    "fig8.show()\n"
   ]
  },
  {
   "cell_type": "code",
   "execution_count": null,
   "id": "cd38ed54-77ba-47e4-a32a-acd5341a05de",
   "metadata": {},
   "outputs": [],
   "source": [
    "fig6 = px.histogram(joined_dfs, x='days_late', color='default_status',\n",
    "                    title='Days Late Distribution by Default Status',\n",
    "                    labels={'days_late': 'Days Late'})\n",
    "\n",
    "fig6.update_layout(xaxis_title='Days Late', yaxis_title='Count', barmode='overlay')\n",
    "fig6.show()"
   ]
  },
  {
   "cell_type": "markdown",
   "id": "b85001fe-388f-4865-a050-e43f4dc33c6a",
   "metadata": {},
   "source": [
    "# Check for outliers in other columns and determine the impact"
   ]
  },
  {
   "cell_type": "code",
   "execution_count": null,
   "id": "b1efc866-84cc-452f-aab1-f85e46e012c3",
   "metadata": {},
   "outputs": [],
   "source": [
    "numerical_columns = ['requested_amount', 'approved_amount','invoice_amount', \n",
    "                     'days_outstanding', 'days_late', 'liquidity_ratio', 'working_capital', 'net_worth']\n",
    "\n",
    "def detect_outliers_iqr(df, column):\n",
    "    Q1 = df[column].quantile(0.25)\n",
    "    Q3 = df[column].quantile(0.75)\n",
    "    IQR = Q3 - Q1\n",
    "    lower_bound = Q1 - 1.5 * IQR\n",
    "    upper_bound = Q3 + 1.5 * IQR\n",
    "    outliers = df[(df[column] < lower_bound) | (df[column] > upper_bound)]\n",
    "    return outliers\n",
    "\n",
    "outliers_dict = {}\n",
    "for column in numerical_columns:\n",
    "    outliers_dict[column] = detect_outliers_iqr(joined_dfs, column)\n",
    "\n",
    "for column, outliers in outliers_dict.items():\n",
    "    print(f\"Outliers for {column}:\")\n",
    "    print(outliers[[column]])\n",
    "    print(\"\\n\")"
   ]
  },
  {
   "cell_type": "code",
   "execution_count": null,
   "id": "bf5c657d-62ad-4b1e-bc95-aca0f266d8fc",
   "metadata": {},
   "outputs": [],
   "source": [
    "plt.figure(figsize=(15, 10))\n",
    "for i, column in enumerate(numerical_columns, 1):\n",
    "    plt.subplot(3, 3, i)\n",
    "    sns.boxplot(data=joined_dfs, x=column)\n",
    "    plt.title(f'Box plot for {column}')\n",
    "plt.tight_layout()\n",
    "plt.show()"
   ]
  },
  {
   "cell_type": "markdown",
   "id": "1ebfd5a5-9917-4ab8-a0bc-a2b64d03795c",
   "metadata": {},
   "source": [
    "# Class Imbalance Analysis for Default Status Binary Target Variable"
   ]
  },
  {
   "cell_type": "code",
   "execution_count": null,
   "id": "a8758037-c0fe-42b5-8e99-f2fa00d8b347",
   "metadata": {},
   "outputs": [],
   "source": [
    "fig = px.pie(joined_dfs, names='default_status', title=\"Class Distribution of Default Status\")\n",
    "fig.show()"
   ]
  },
  {
   "cell_type": "markdown",
   "id": "658ddb1e-5b0f-450a-a8c6-6fe5b42287aa",
   "metadata": {},
   "source": [
    "#### **Note**: the default status data is highly imbalanced suggesting for a SMOTE technique or upsampling of true values for a better ML prediction "
   ]
  },
  {
   "cell_type": "markdown",
   "id": "110fa374-5758-4a43-a47f-08db76fb8d88",
   "metadata": {},
   "source": [
    "Relationships between the default status and the rest of features:\n",
    "\n",
    "- No strong linear correlations with default_status — suggests the relationships are likely non-linear or interacting.\n",
    "\n",
    "- industry_segment has the highest correlation, hinting that sector-based segmentation may be useful.\n",
    "\n",
    "- external_credit_rating and risk_score are only weakly predictive on their own. \n",
    "\n",
    "- Features like invoice_amount, liquidity_ratio, and requested_amount alone aren't helpful, but they may be more useful when combined as ratios. "
   ]
  },
  {
   "cell_type": "markdown",
   "id": "ca8e7062-5695-4a54-8133-949c59cbdff4",
   "metadata": {},
   "source": [
    "\n",
    "To improve prediction and gain a deeper understanding, incorporating financial health indicators, payment behavior data, market trends, and specific segment-level data could help in refining the model for default prediction.\n",
    "\n",
    "- Segment-Specific Interactions:\n",
    "\n",
    "industry_segment * risk_score (are certain industries riskier?)\n",
    "\n",
    "- Create Ratios:\n",
    "\n",
    "invoice_amount / liquidity_ratio\n",
    "\n",
    "\n",
    "\n",
    "- Financial Health Metrics:\n",
    "\n",
    "Debt-to-Equity Ratio: This ratio could help understand the financial leverage of a company. Companies with higher debt may be more prone to default.\n",
    "\n",
    "Profitability Metrics: Profit margins or Return on Assets (ROA) could provide insight into how well a company can sustain itself and avoid defaults.\n",
    "\n",
    "\n",
    "- Payment Behavior:\n",
    "\n",
    "Number of Late Payments: Tracking late payments over time or categorizing them into \"frequent late payers\" could help predict defaults more accurately.\n",
    "\n",
    "Invoice Payment Frequency: Companies that consistently delay or pay invoices in installments might show higher default risk.\n",
    "\n",
    "- Time Factors:\n",
    "\n",
    "Duration of Company Existence: A company that has been around for a longer period might be less likely to default. This could be captured by calculating the number of years since incorporation.\n",
    "\n",
    "\n",
    "- External Market Data:\n",
    "\n",
    "Economic Indicators: Factors such as GDP growth, inflation, or sector-specific economic data could provide a broader context to help predict defaults.\n",
    "\n",
    "Credit Ratings of Key Customers/Partners: If available, analyzing the creditworthiness of the company's main business partners might provide additional predictive power.\n",
    "\n",
    "- Legal Form and Ownership Structure:\n",
    "\n",
    "Ownership Type (e.g., family-owned vs. publicly listed): The ownership structure could affect the default likelihood due to different levels of oversight, financial stability, and risk tolerance.\n",
    "\n",
    "Legal Form: Corporations, partnerships, and sole proprietorships might have different risk profiles. Exploring this might reveal insights into default likelihood.\n",
    "\n",
    "- Market Trends:\n",
    "\n",
    "Economic Cycles: For example, during recessions, companies may experience higher default rates. Incorporating such features could provide a more accurate prediction model."
   ]
  },
  {
   "cell_type": "markdown",
   "id": "653a13a6-af3a-4c99-993f-7fdaddec6129",
   "metadata": {},
   "source": [
    "# TASK 2"
   ]
  },
  {
   "cell_type": "markdown",
   "id": "33c45774-cf92-41cf-b23a-d749a3989901",
   "metadata": {},
   "source": [
    "**2.1**\n",
    "\n",
    "Evaluate if the current risk assessment (as indicated by risk_score and decision) appears adequate for the Construction segment.\n",
    "   \n",
    "Default Risk (Adequacy of Risk Score):\n",
    "\n",
    "Default rate is high enough (0.79%), in comparison to other industries suggesting that companies in Construction default.\n",
    "\n",
    "All, the late payment rate is high (55.6%), meaning that while they pay, they often pay late.\n",
    "\n",
    "\n",
    "Decision Process:\n",
    "\n",
    "Risk scoring should distinguish between late payers and defaulters. Construction may just need longer payment cycles, not stricter credit limits.\n",
    "\n",
    "Given these observations, the current risk_score and decision might not be fully adequate for assessing the risk in the Construction sector. \n",
    "\n",
    "\n",
    "A possible approach would be to use a segmentation-based rule for adjusting credit limits based on specific metrics derived from the data. Here's a proposed approach:\n",
    "\n",
    "Segment by Default Risk: Divide the Construction segment into high-risk and low-risk sub-segments based on their historical default rate and late payment behavior.\n",
    "\n",
    "- High-Risk Sub-Segment: Companies with a default rate above certain threshold and/or a late payment rate above 50%.\n",
    "\n",
    "- Low-Risk Sub-Segment: Companies with a default rate below certain threshold and a late payment rate below 50%.\n",
    "\n",
    "Adjust Credit Limits: Based on this segmentation:\n",
    "\n",
    "- For High-Risk Companies: Lower their credit limits or set stricter terms (e.g., shorter payment terms, increased collateral).\n",
    "\n",
    "- For Low-Risk Companies: Maintain or slightly increase their credit limits, as their historical performance suggests they are more likely to meet their obligations.\n",
    "\n",
    "\n",
    "How to Evaluate This Rule in Production:\n",
    "\n",
    "A/B Testing:\n",
    "\n",
    "- Compare default and repayment patterns (test group) vs. control group.\n",
    "\n",
    "Track Metrics:\n",
    "\n",
    "- Default rate\n",
    "\n",
    "- Late payment rate\n",
    "\n",
    "- Recovery rate\n",
    "\n",
    "- Credit utilization\n",
    "\n",
    "\n"
   ]
  },
  {
   "cell_type": "markdown",
   "id": "419981f0-6ccf-4f04-9401-f276a0b49e22",
   "metadata": {},
   "source": [
    "**2.2**\n",
    "\n",
    "Proposed Data-Driven Rule for the Construction Segment\n",
    "\n",
    "Given that the Construction segment shows a default rate of (0.79%) and a high late payment rate (55.6%), the current risk assessment may be overly conservative. To better align credit decisions with actual risk, we propose the following data-driven segmentation rule:\n",
    "\n",
    "For applicants in the Construction industry segment, we can apply an adjusted credit limit if the following conditions are met:\n",
    "\n",
    "1. Late payments are consistently within a tolerable range (e.g., < 60 days overdue),\n",
    "\n",
    "2. No recorded defaults in the past 12 months,\n",
    "\n",
    "3. Liquidity ratio is above a threshold (e.g., > 1.2), and\n",
    "\n",
    "4. External credit rating is not worse than a predefined floor (e.g., equivalent of B or above).\n",
    "\n",
    "This rule introduces flexibility for segments with late but ultimately reliable payers. \n",
    "\n",
    "### An SQL example in our GCP bigquery database could look like below:\n",
    "\n",
    "```sql\n",
    "SELECT \n",
    "    customer_id,\n",
    "    industry_segment,\n",
    "    risk_score,\n",
    "    liquidity_ratio,\n",
    "    external_credit_rating,\n",
    "    default_status,\n",
    "    AVG(days_outstanding) AS avg_days_outstanding,\n",
    "    COUNT(CASE WHEN days_outstanding > 60 THEN 1 END) AS late_payments_over_60_days\n",
    "FROM \n",
    "    credit_data\n",
    "WHERE \n",
    "    industry_segment = 'Construct'\n",
    "GROUP BY \n",
    "    customer_id, industry_segment, risk_score, liquidity_ratio, external_credit_rating, default_status\n",
    "HAVING \n",
    "    default_status = False AND\n",
    "    liquidity_ratio > 1.2 AND\n",
    "    external_credit_rating IN ('AAA', 'AA', 'A', 'BBB', 'BB', 'B') AND\n",
    "    late_payments_over_60_days = 0;\n",
    "\n"
   ]
  },
  {
   "cell_type": "markdown",
   "id": "61aefd9b-a833-4fd4-b98d-b2f7bb836369",
   "metadata": {},
   "source": [
    "**2.3**\n",
    "\n",
    "The proposed rule aims to refine credit limit assessments for Construction segment clients by filtering for strong liquidity, good credit ratings, and consistent payment behavior. Here's why this makes sense:\n",
    "\n",
    "1. Higher Late Payment Rate in Construction\n",
    "Construction has a late payment rate of ~55.6%, which is among the highest across all sectors.\n",
    "\n",
    "This indicates that the default is high (0.79%) and delays in payments are systemically common in this segment.\n",
    "\n",
    "Therefore, isolating clients with no significant delays (no payments >60 days late) is a meaningful way to filter for operational discipline.\n",
    "\n",
    "2. Distinction Between Defaulters and Non-Defaulters\n",
    "The average days_outstanding for non-defaulters is -1894 days, showing early payments (possibly due to credit notes or accounting quirks).\n",
    "\n",
    "For defaulters, the average delay is +176 days, with even the 25th percentile at 116 days late — far worse than the general population.\n",
    "\n",
    "This validates using long delays as an early warning signal.\n",
    "\n",
    "3. Liquidity Ratio as a Key Differentiator\n",
    "While we don’t have it broken out by default status here, applying a threshold > 1.2 helps identify customers with healthier short-term solvency.\n",
    "\n",
    "This supports the idea that liquidity adds a buffer against late or missed payments.\n",
    "\n",
    "4. Risk Score Median Suggests Conservative Baseline\n",
    "The median risk score is 3.06 — using this as a reference, our query can focus on Construction clients whose behavior does not match typical high-risk profiles.\n",
    "\n",
    "Even though risk_score alone doesn’t capture default directly, it's useful for ranking within a filtered subset.\n",
    "\n",
    "5. External Credit Rating Adds Assurance\n",
    "By including only firms rated BBB or above, the rule emphasizes external validation of creditworthiness.\n",
    "\n",
    "This helps mitigate Construction’s operational risks by balancing internal and external data sources."
   ]
  },
  {
   "cell_type": "markdown",
   "id": "41f21c56-ff37-487f-8554-c41c14d6279f",
   "metadata": {},
   "source": [
    "**2.4**\n",
    "\n",
    "Summary of Evaluation and Deployment Steps for Rule-Based System (SQL-based):\n",
    "\n",
    "a. Pilot test using historical data and A/B testing to evaluate its initial effectiveness.\n",
    "\n",
    "b. Evaluate metrics like default rate, credit limits, and customer behavior. (Default Rate: After applying the rule, check if the default rate in the Construction segment is decreasing.)\n",
    "\n",
    "c. Test edge cases to ensure the rule works under various conditions. (are there cases where a customer might not fit the rule but still poses a risk?)\n",
    "\n",
    "d. Monitor performance after launch, and set up automated alerts for anomalies. (To monitor metrics like default rate, credit limit adjustments, and payment behaviors. Any significant shifts in these metrics should trigger alerts.)\n",
    "\n",
    "e. Collect feedback to refine the rule, and ensure it's achieving the desired outcomes. (If the business is seeing unexpected outcomes (e.g., defaults are not reducing), reconsider the thresholds or logic used in the rule.)\n",
    "\n",
    "f. Regular performance audits to ensure the rule stays relevant over time. (If customer behavior or risk factors change over time, you may need to adjust the rule's parameters (e.g., change the risk_score threshold or modify the conditions))\n",
    "\n",
    "g. Document and version control to track rule changes and make updates easily. "
   ]
  },
  {
   "cell_type": "code",
   "execution_count": null,
   "id": "f7bce93a-35b1-45f4-b52e-d9866811cc89",
   "metadata": {},
   "outputs": [],
   "source": []
  }
 ],
 "metadata": {
  "kernelspec": {
   "display_name": "Python 3 (ipykernel)",
   "language": "python",
   "name": "python3"
  },
  "language_info": {
   "codemirror_mode": {
    "name": "ipython",
    "version": 3
   },
   "file_extension": ".py",
   "mimetype": "text/x-python",
   "name": "python",
   "nbconvert_exporter": "python",
   "pygments_lexer": "ipython3",
   "version": "3.11.1"
  }
 },
 "nbformat": 4,
 "nbformat_minor": 5
}
