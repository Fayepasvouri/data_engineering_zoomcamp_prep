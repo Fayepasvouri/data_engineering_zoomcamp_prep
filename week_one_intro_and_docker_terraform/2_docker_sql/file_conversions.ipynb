{
 "cells": [
  {
   "cell_type": "code",
   "execution_count": 2,
   "id": "aa715f5e-4fb6-4830-8f0b-1102e9915ea6",
   "metadata": {},
   "outputs": [],
   "source": [
    "import pandas as pd\n",
    "\n",
    "# Load the Parquet file\n",
    "df = pd.read_parquet(\"/Users/faye.pasvouri/data_engineering_zoomcamp_prep/yellow_tripdata_2021-01.parquet\")\n",
    "\n",
    "# Save as CSV\n",
    "df.to_csv(\"yellow_tripdata_2021-01.csv\", index=False)\n"
   ]
  },
  {
   "cell_type": "code",
   "execution_count": null,
   "id": "ad96e306-ef7b-48f3-abe8-70246bcfdbda",
   "metadata": {},
   "outputs": [],
   "source": []
  }
 ],
 "metadata": {
  "kernelspec": {
   "display_name": "Python 3 (ipykernel)",
   "language": "python",
   "name": "python3"
  },
  "language_info": {
   "codemirror_mode": {
    "name": "ipython",
    "version": 3
   },
   "file_extension": ".py",
   "mimetype": "text/x-python",
   "name": "python",
   "nbconvert_exporter": "python",
   "pygments_lexer": "ipython3",
   "version": "3.13.7"
  }
 },
 "nbformat": 4,
 "nbformat_minor": 5
}
