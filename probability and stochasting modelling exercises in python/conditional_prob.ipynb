{
 "cells": [
  {
   "cell_type": "code",
   "execution_count": 10,
   "id": "dd10f903",
   "metadata": {},
   "outputs": [
    {
     "name": "stdout",
     "output_type": "stream",
     "text": [
      "result is (0.6666666666666666, 0.3333333333333333, 0.5, 0.3333333333333333, [3, 4])\n"
     ]
    }
   ],
   "source": [
    "# conditional prob\n",
    "\n",
    "# P(A) = P(A|B) = P(A + B)/P(B)\n",
    "\n",
    "def cond_prob_dice(A, B):\n",
    "\n",
    "    O = list(range(1,7))\n",
    "\n",
    "    P_A = len(A)/len(O)\n",
    "\n",
    "    P_B = len(B)/len(O)\n",
    "\n",
    "    A_and_B = list(set(A) & set(B))\n",
    "\n",
    "    P_A_and_B = len(A_and_B) / len(O)\n",
    "\n",
    "    P_A_if_P_B = P_A_and_B / P_B\n",
    "\n",
    "    return P_A_if_P_B, P_A_and_B, P_B, P_A, A_and_B\n",
    "\n",
    "result = cond_prob_dice([3,4], [3,4,5])\n",
    "print(\"result is\", result)\n",
    "\n"
   ]
  }
 ],
 "metadata": {
  "kernelspec": {
   "display_name": "Python 3",
   "language": "python",
   "name": "python3"
  },
  "language_info": {
   "codemirror_mode": {
    "name": "ipython",
    "version": 3
   },
   "file_extension": ".py",
   "mimetype": "text/x-python",
   "name": "python",
   "nbconvert_exporter": "python",
   "pygments_lexer": "ipython3",
   "version": "3.13.7"
  }
 },
 "nbformat": 4,
 "nbformat_minor": 5
}
